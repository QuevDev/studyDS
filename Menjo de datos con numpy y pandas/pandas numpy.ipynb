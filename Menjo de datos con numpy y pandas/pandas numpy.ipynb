{
 "cells": [
  {
   "cell_type": "code",
   "execution_count": 1,
   "id": "e08cd4c9-09ad-4f0d-8fab-a607dcc988ab",
   "metadata": {},
   "outputs": [],
   "source": [
    "import pandas as pd \n",
    "import numpy as np\n",
    "import matplotlib.pyplot as plt"
   ]
  },
  {
   "cell_type": "markdown",
   "id": "b8a74fa1",
   "metadata": {
    "notebookRunGroups": {
     "groupValue": "12"
    }
   },
   "source": [
    "Por que numpy y pandas? \n",
    "\n",
    "<h1>Numpy</h1>\n",
    "Es una libreria enfocada al calculo numerico y manejo de arrays.<br>\n",
    "\n",
    "-Es veloz, hasta 50 veces mas rapido que usar una lista de python o C <br>\n",
    "-Optimizxa el almacenamiento en memoria <br>\n",
    "-Ademas, maneja distintos tipos de datos.<br>\n",
    "\n",
    "<h1>Pandas</h1>\n",
    "Esta enfocada a la manipulacion y analisis de datos.<br>\n",
    "-Al estar construido sobre numpy lo hace veloz.<br>\n",
    "-Require poco codigo para manipular los datos.<br>\n",
    "-soporta multiple formatos de archivos <br>\n",
    "-ordena los datos en una aliniacion inteligente.<br>\n",
    "\n",
    "Se pueden  manejar grandes cantidades de datos, hacer\n",
    "analitica y crear dashboards.\n",
    "\n",
    "\n"
   ]
  },
  {
   "cell_type": "markdown",
   "id": "1bac25ca",
   "metadata": {},
   "source": [
    "<h2>Numpy array</h2>\n",
    "Es el principal objeto de la libreria.\n",
    "Representa datos de manera estructurada y se puede acceder a ellos a traves del indexado. a un datos especifico o  un grupo de muchos datos especificos."
   ]
  },
  {
   "cell_type": "markdown",
   "id": "c4ba1375",
   "metadata": {},
   "source": [
    "a = np.array([1,2,3])"
   ]
  },
  {
   "cell_type": "code",
   "execution_count": 124,
   "id": "bf6ce24b",
   "metadata": {},
   "outputs": [
    {
     "name": "stdout",
     "output_type": "stream",
     "text": [
      "[0, 1, 2, 3, 4, 5, 6, 7, 8, 9]\n"
     ]
    },
    {
     "data": {
      "text/plain": [
       "1"
      ]
     },
     "execution_count": 124,
     "metadata": {},
     "output_type": "execute_result"
    }
   ],
   "source": [
    "lista = [i for i in range(10)]\n",
    "print(lista)\n",
    "\n",
    "#usando numpy\n",
    "\n",
    "arr = np.array(lista)\n",
    "\n",
    "#podemos crear multiples dimensiones\n",
    "matriz = [[1,2,3],[4,5,6],[7,8,9],[10,11,12]]\n",
    "matriz = np.array(matriz)\n",
    "matriz[0,0]"
   ]
  },
  {
   "cell_type": "code",
   "execution_count": 128,
   "id": "21922cab",
   "metadata": {},
   "outputs": [
    {
     "data": {
      "text/plain": [
       "array([0, 1, 2])"
      ]
     },
     "execution_count": 128,
     "metadata": {},
     "output_type": "execute_result"
    }
   ],
   "source": [
    "#tomar 3 primeros valores de arr \n",
    "arr[0:3] #arr[start:end:pasos]"
   ]
  },
  {
   "cell_type": "markdown",
   "id": "f1186be0",
   "metadata": {},
   "source": [
    "Es important saber el slice o rebanadas ya que a veces en ciencia de datos solo queremos acceder a cierta informacion del array y no a este por completo."
   ]
  },
  {
   "cell_type": "code",
   "execution_count": 143,
   "id": "7bd9a8d5",
   "metadata": {},
   "outputs": [
    {
     "name": "stdout",
     "output_type": "stream",
     "text": [
      "[[ 1  2  3]\n",
      " [ 4  5  6]\n",
      " [ 7  8  9]\n",
      " [10 11 12]]\n"
     ]
    },
    {
     "data": {
      "text/plain": [
       "array([[1, 2, 3],\n",
       "       [4, 5, 6]])"
      ]
     },
     "execution_count": 143,
     "metadata": {},
     "output_type": "execute_result"
    }
   ],
   "source": [
    "print(matriz)\n",
    "matriz[0:2,:3]"
   ]
  },
  {
   "cell_type": "markdown",
   "id": "b5079cc9",
   "metadata": {},
   "source": [
    "<h2>Tipos de datos</h2>\n",
    "\n",
    "Los arrays de Numpy solo pueden contener un tipo de dato, ya que esto es lo que confiere las ventajas de las optimizacion de memoria"
   ]
  },
  {
   "cell_type": "markdown",
   "id": "13e4c8cc",
   "metadata": {},
   "source": [
    "arr = np.array([1,2,3,4])<br>\n",
    "arr.dtype <br>\n",
    "\n",
    "=>output 'int64'\n"
   ]
  },
  {
   "cell_type": "markdown",
   "id": "c56b0a8f",
   "metadata": {},
   "source": [
    "Tambien estos datos se pueden manejar como booleanos y texto"
   ]
  },
  {
   "cell_type": "code",
   "execution_count": 155,
   "id": "c6aef449",
   "metadata": {},
   "outputs": [
    {
     "name": "stdout",
     "output_type": "stream",
     "text": [
      "[1. 2. 3. 4.]\n",
      "[1 2 3 4]\n"
     ]
    }
   ],
   "source": [
    "arr = np.array([1,2,3,4],dtype=float)\n",
    "print(arr)\n",
    "#O\n",
    "arr = arr.astype(np.int64)\n",
    "print(arr)"
   ]
  },
  {
   "cell_type": "markdown",
   "id": "d1f12d91",
   "metadata": {},
   "source": [
    "tambien para crear un rango de datos podemos usar la funcion np.arange(0,10)"
   ]
  },
  {
   "cell_type": "code",
   "execution_count": 167,
   "id": "038b5e5b",
   "metadata": {},
   "outputs": [
    {
     "name": "stdout",
     "output_type": "stream",
     "text": [
      "2.8722813232690143\n"
     ]
    }
   ],
   "source": [
    "arr = np.arange(0,10)\n",
    "arr.var()\n",
    "print(np.sqrt(arr.var())) #desviacion estandar\n"
   ]
  },
  {
   "cell_type": "markdown",
   "id": "48d472e0",
   "metadata": {},
   "source": [
    "<h2>Dimensiones</h2>\n",
    "con las matrices podemos crear varias dimensiones, vamos a nombrarlas<br>\n",
    "\n",
    "-Scalar : 0 un solo dato o valor <br>\n",
    "\n",
    "-Vector : listas de python <br>\n",
    "\n",
    "-Matrix : hoja de calculo <br>\n",
    "\n",
    "-Tensor : Series de tiempo o imagenes<br>\n",
    "\n",
    "\n"
   ]
  },
  {
   "cell_type": "markdown",
   "id": "363d8af8",
   "metadata": {},
   "source": []
  },
  {
   "cell_type": "code",
   "execution_count": 179,
   "id": "126032f6",
   "metadata": {},
   "outputs": [
    {
     "name": "stdout",
     "output_type": "stream",
     "text": [
      "Escalar = \n",
      "1\n",
      "Vector = \n",
      "[1 2 3 4]\n",
      "Matrix = \n",
      "[[1 2 3 4]\n",
      " [1 2 3 4]]\n",
      "tensor =\n",
      " [[[1 2 3 4]\n",
      "  [1 2 3 4]\n",
      "  [1 2 3 4]]\n",
      "\n",
      " [[1 2 3 4]\n",
      "  [1 2 3 4]\n",
      "  [1 2 3 4]]]\n"
     ]
    }
   ],
   "source": [
    "escalar  = np.array(1)\n",
    "print(f'Escalar = \\n{escalar}')\n",
    "\n",
    "vector = np.array([1,2,3,4])\n",
    "print(f'Vector = \\n{vector}')\n",
    "\n",
    "matrix = np.array([[1,2,3,4],[1,2,3,4]])\n",
    "print(f'Matrix = \\n{matrix}')\n",
    "\n",
    "tensor = np.array([[[1,2,3,4],[1,2,3,4],[1,2,3,4]],[[1,2,3,4],[1,2,3,4],[1,2,3,4]]])\n",
    "#Para saber la dimension de mi tensor usamos\n",
    "#tensor.ndim \n",
    "print(f'tensor =\\n {tensor}')"
   ]
  },
  {
   "cell_type": "markdown",
   "id": "b1cc3381",
   "metadata": {},
   "source": [
    "<h3>Agregar o eliminar dimensiones</h3>"
   ]
  },
  {
   "cell_type": "code",
   "execution_count": 186,
   "id": "363ad646",
   "metadata": {},
   "outputs": [
    {
     "name": "stdout",
     "output_type": "stream",
     "text": [
      "[[[[[[[[[[1 2 3]]]]]]]]]] numeros de dimension = 10\n",
      "[[[[[[[[[[1 2 3]]]]]]]]]], dim = 10\n",
      "[1 2 3], dim = 1\n"
     ]
    }
   ],
   "source": [
    "vector = np.array([1,2,3],ndmin=10)\n",
    "print(f'{vector} numeros de dimension = {vector.ndim}')\n",
    "\n",
    "#expandir un dimension \n",
    "\n",
    "expand = np.expand_dims([1,2,3,4], axis=0)\n",
    "expand\n",
    "\n",
    "#eliminar un dimension\n",
    "\n",
    "print(f'{vector}, dim = {vector.ndim}')\n",
    "vector_dos = np.squeeze(vector)\n",
    "print(f'{vector_dos}, dim = {vector_dos.ndim}')\n"
   ]
  },
  {
   "cell_type": "markdown",
   "id": "76e4cc3b",
   "metadata": {},
   "source": [
    "<h1>Creando Arrays</h1>\n",
    "Numpy nos da varios metodos muy eficientes para poder crear arrayss desde 0 "
   ]
  },
  {
   "cell_type": "markdown",
   "id": "14cdafe2",
   "metadata": {},
   "source": [
    "#creando una lista con python <br>\n",
    "lista_uno = list(range(0,10))<br>\n",
    "#[0,1,2,3,4,5,6,7,8,9]<br>\n",
    "\n",
    "usando numpy \n",
    "np.arange(0,10,2) (inicio,final,pasos)"
   ]
  },
  {
   "cell_type": "code",
   "execution_count": 212,
   "id": "d4acc694",
   "metadata": {},
   "outputs": [
    {
     "name": "stdout",
     "output_type": "stream",
     "text": [
      "zeros = [[0. 0. 0. 0. 0. 0. 0. 0. 0. 0.]\n",
      " [0. 0. 0. 0. 0. 0. 0. 0. 0. 0.]\n",
      " [0. 0. 0. 0. 0. 0. 0. 0. 0. 0.]\n",
      " [0. 0. 0. 0. 0. 0. 0. 0. 0. 0.]\n",
      " [0. 0. 0. 0. 0. 0. 0. 0. 0. 0.]\n",
      " [0. 0. 0. 0. 0. 0. 0. 0. 0. 0.]\n",
      " [0. 0. 0. 0. 0. 0. 0. 0. 0. 0.]\n",
      " [0. 0. 0. 0. 0. 0. 0. 0. 0. 0.]\n",
      " [0. 0. 0. 0. 0. 0. 0. 0. 0. 0.]\n",
      " [0. 0. 0. 0. 0. 0. 0. 0. 0. 0.]]\n",
      "\n",
      "ones= [[1. 1. 1. 1. 1. 1. 1. 1. 1. 1.]\n",
      " [1. 1. 1. 1. 1. 1. 1. 1. 1. 1.]\n",
      " [1. 1. 1. 1. 1. 1. 1. 1. 1. 1.]\n",
      " [1. 1. 1. 1. 1. 1. 1. 1. 1. 1.]\n",
      " [1. 1. 1. 1. 1. 1. 1. 1. 1. 1.]\n",
      " [1. 1. 1. 1. 1. 1. 1. 1. 1. 1.]\n",
      " [1. 1. 1. 1. 1. 1. 1. 1. 1. 1.]\n",
      " [1. 1. 1. 1. 1. 1. 1. 1. 1. 1.]\n",
      " [1. 1. 1. 1. 1. 1. 1. 1. 1. 1.]\n",
      " [1. 1. 1. 1. 1. 1. 1. 1. 1. 1.]]\n",
      "\n",
      "linspace = [ 0.          1.11111111  2.22222222  3.33333333  4.44444444  5.55555556\n",
      "  6.66666667  7.77777778  8.88888889 10.        ]\n",
      "\n",
      "eye = [[1. 0. 0. 0. 0. 0. 0. 0. 0. 0.]\n",
      " [0. 1. 0. 0. 0. 0. 0. 0. 0. 0.]\n",
      " [0. 0. 1. 0. 0. 0. 0. 0. 0. 0.]\n",
      " [0. 0. 0. 1. 0. 0. 0. 0. 0. 0.]\n",
      " [0. 0. 0. 0. 1. 0. 0. 0. 0. 0.]\n",
      " [0. 0. 0. 0. 0. 1. 0. 0. 0. 0.]\n",
      " [0. 0. 0. 0. 0. 0. 1. 0. 0. 0.]\n",
      " [0. 0. 0. 0. 0. 0. 0. 1. 0. 0.]\n",
      " [0. 0. 0. 0. 0. 0. 0. 0. 1. 0.]\n",
      " [0. 0. 0. 0. 0. 0. 0. 0. 0. 1.]]\n",
      "\n",
      "random = [[0.77132774 0.26201316 0.07635124 0.58120858]\n",
      " [0.13714499 0.57892659 0.0692163  0.53924857]\n",
      " [0.43097686 0.78209486 0.94858444 0.60620741]\n",
      " [0.51351312 0.54569541 0.36978941 0.22884358]]\n",
      "\n",
      "randint = [[27 16 42 22 29 12 16 61 30 47]\n",
      " [24  8 52 46 47 97 23 74 98 32]\n",
      " [20 55 70 13 42 96 46 57 87  3]\n",
      " [35 65 90 52 84 36 46  5 26 81]\n",
      " [ 2 54 14 91 80 11 47 88 80 32]\n",
      " [43 10 95 96 39  3  2 47 22 16]\n",
      " [28 74 67 50 44 85 31  8 62 47]\n",
      " [18 97 98 19 65 19 88 11 28 99]\n",
      " [40 12 84 75 86 55 16 75 49 96]\n",
      " [57 58 17  6 34 83 73 92 31 53]]\n",
      "\n"
     ]
    }
   ],
   "source": [
    "from mailbox import linesep\n",
    "\n",
    "\n",
    "zer0s = np.zeros((10,10))\n",
    "print(f'zeros = {zer0s}\\n')\n",
    "\n",
    "ones = np.ones((10,10))\n",
    "print(f'ones= {ones}\\n')\n",
    "\n",
    "linspace = np.linspace(0,10,10)\n",
    "print(f'linspace = {linspace}\\n')\n",
    "\n",
    "eye = np.eye(10)\n",
    "print(f'eye = {eye}\\n')\n",
    "\n",
    "random = np.random.rand(4,4)\n",
    "print(f'random = {random}\\n')\n",
    "\n",
    "randint = np.random.randint(1,100,(10,10))\n",
    "print(f'randint = {randint}\\n')\n"
   ]
  },
  {
   "cell_type": "markdown",
   "id": "4a4aba2e",
   "metadata": {},
   "source": [
    "<H1>Shape y Reshape</H1>\n",
    "Shape => indica la forma del arreglo\n",
    "reshape => transforma el arreglo mientras se mantengan los elementos"
   ]
  },
  {
   "cell_type": "code",
   "execution_count": 9,
   "id": "6c7e4bd9",
   "metadata": {},
   "outputs": [
    {
     "name": "stdout",
     "output_type": "stream",
     "text": [
      "[[4 4]\n",
      " [6 8]\n",
      " [3 3]]\n"
     ]
    },
    {
     "data": {
      "text/plain": [
       "array([[4, 4, 6, 8, 3, 3]])"
      ]
     },
     "execution_count": 9,
     "metadata": {},
     "output_type": "execute_result"
    }
   ],
   "source": [
    "import numpy as np \n",
    "\n",
    "arr = np.random.randint(1,10,(3,2))\n",
    "print(arr)\n",
    "\n",
    "# cantidad de filas y de columnas\n",
    "arr.reshape(1,6)\n",
    "np.reshape(arr,(1,6))"
   ]
  },
  {
   "cell_type": "code",
   "execution_count": 10,
   "id": "d35904f7",
   "metadata": {},
   "outputs": [
    {
     "data": {
      "text/plain": [
       "array([[4, 4, 6],\n",
       "       [8, 3, 3]])"
      ]
     },
     "execution_count": 10,
     "metadata": {},
     "output_type": "execute_result"
    }
   ],
   "source": [
    "#como esta ordenando. \n",
    "\n",
    "np.reshape(arr,(2,3),'C')"
   ]
  },
  {
   "cell_type": "markdown",
   "id": "5245bea9",
   "metadata": {},
   "source": [
    "<h2>Matrices and vectors</h2>\n",
    "<p>Un <b>vector<b> es un n x 1 metrix</p>\n",
    " y = [1,<br>\n",
    "      2,<br>\n",
    "      3,<br>\n",
    "      4]<br> \n",
    "  "
   ]
  },
  {
   "cell_type": "code",
   "execution_count": 25,
   "id": "32165a0e",
   "metadata": {},
   "outputs": [
    {
     "name": "stdout",
     "output_type": "stream",
     "text": [
      "formula>>\n",
      "y = 0.6571428571428571 + 0.7714285714285714*X\n"
     ]
    },
    {
     "data": {
      "text/plain": [
       "[<matplotlib.lines.Line2D at 0x7fc3e1899370>]"
      ]
     },
     "execution_count": 25,
     "metadata": {},
     "output_type": "execute_result"
    },
    {
     "data": {
      "image/png": "[encoded data removed]",
      "text/plain": [
       "<Figure size 432x432 with 1 Axes>"
      ]
     },
     "metadata": {
      "needs_background": "light"
     },
     "output_type": "display_data"
    }
   ],
   "source": [
    "import pandas as pd \n",
    "import numpy as np \n",
    "import matplotlib.pyplot as plt\n",
    "from sklearn import linear_model\n",
    "\n",
    "\n",
    "df = pd.DataFrame({'x' : [3,2,4,0],\n",
    "                   'y' : [4,1,3,1]})\n",
    "\n",
    "\n",
    "\n",
    "X_train = np.c_[df.x]\n",
    "y_train = np.array(df.y)\n",
    "\n",
    "\n",
    "model = linear_model.LinearRegression()\n",
    "model.fit(X_train,y_train)\n",
    "\n",
    "b0 = model.coef_\n",
    "b1 = model.intercept_\n",
    "\n",
    "print('formula>>')\n",
    "print(f'y = {b0[0]} + {b1}*X')\n",
    "\n",
    "fig,ax = plt.subplots(figsize=(6,6))\n",
    "ax.scatter(X_train,y_train)\n",
    "plt.plot(X_train,b0 + b1 * X_train,color='r')\n",
    "\n",
    "\n"
   ]
  },
  {
   "cell_type": "markdown",
   "id": "00c479bd",
   "metadata": {},
   "source": [
    "<h1>Funciones principales</h1>"
   ]
  },
  {
   "cell_type": "code",
   "execution_count": 20,
   "id": "0b06b425",
   "metadata": {},
   "outputs": [
    {
     "name": "stdout",
     "output_type": "stream",
     "text": [
      "mayor\n",
      "[[ 9  1  6  9  5]\n",
      " [ 6  4  4  6 19]]\n",
      "[ 9 19]\n",
      "[0 4]\n",
      "menor\n",
      "1\n",
      "[1 1]\n"
     ]
    }
   ],
   "source": [
    "import numpy as np\n",
    "\n",
    "\n",
    "#numeros aleatorios \n",
    "rand = np.random.randint(1,20,10)\n",
    "matriz = rand.reshape(2,5)\n",
    "\n",
    "#obtener el numero mayor \n",
    "print('mayor')\n",
    "print(matriz)\n",
    "print(matriz.max(1))\n",
    "\n",
    "#obetener el indice del mayor(solo el de menor indice)\n",
    "print(matriz.argmax(1))\n",
    "\n",
    "\n",
    "print('menor')\n",
    "#obtener numero menor\n",
    "print(matriz.min())\n",
    "print(matriz.argmin(1))"
   ]
  },
  {
   "cell_type": "code",
   "execution_count": 68,
   "id": "7c392486",
   "metadata": {},
   "outputs": [
    {
     "name": "stdout",
     "output_type": "stream",
     "text": [
      "[ 1  4  4  5  6  6  6  9  9 19]\n",
      " mediana :6.0\n",
      " media :6.9\n",
      " desviacion estandar :4.6141087980237305\n",
      " varianza :21.29\n",
      "percentil 35% : 6.36\n"
     ]
    },
    {
     "data": {
      "text/plain": [
       "<matplotlib.lines.Line2D at 0x7ff1dbce4520>"
      ]
     },
     "execution_count": 68,
     "metadata": {},
     "output_type": "execute_result"
    },
    {
     "data": {
      "image/png": "[encoded data removed]",
      "text/plain": [
       "<Figure size 432x432 with 1 Axes>"
      ]
     },
     "metadata": {
      "needs_background": "light"
     },
     "output_type": "display_data"
    }
   ],
   "source": [
    "#ver el rango del minimo al maximo y minumo\n",
    "matriz.ptp(1)\n",
    "\n",
    "#estadistica\n",
    "#obtener el percentil\n",
    "rand.sort()\n",
    "print(rand)\n",
    "print(f' mediana :{np.median(rand)}')\n",
    "print(f' media :{np.mean(rand)}')\n",
    "print(f' desviacion estandar :{np.std(rand,ddof=0)}')\n",
    "print(f' varianza :{np.var(rand)}')\n",
    "print(  f\"percentil 35% : {np.percentile(rand,68)}\")\n",
    "\n",
    "import matplotlib.pyplot as plt \n",
    "\n",
    "fig,ax = plt.subplots(figsize=(6,6))\n",
    "ax.hist(rand)\n",
    "ax.axvline(np.mean(rand),color='red',linestyle='--')\n",
    "ax.axvline(np.median(rand),color='orange',linestyle='--')\n",
    "\n"
   ]
  },
  {
   "cell_type": "code",
   "execution_count": 83,
   "id": "f6e8b88a",
   "metadata": {},
   "outputs": [
    {
     "data": {
      "text/plain": [
       "array([[1, 2],\n",
       "       [3, 4],\n",
       "       [5, 6]])"
      ]
     },
     "execution_count": 83,
     "metadata": {},
     "output_type": "execute_result"
    }
   ],
   "source": [
    "#concatenar arreglos \n",
    "a = np.array([[1,2],[3,4]])\n",
    "b = np.array([5,6])\n",
    "\n",
    "#b = b.reshape(1,2)\n",
    "\n",
    "\n",
    "#o tambien usamos expand_dims\n",
    "b = np.expand_dims(b,axis=0)\n",
    "np.concatenate((a,b),axis=0)\n",
    "\n"
   ]
  },
  {
   "cell_type": "code",
   "execution_count": 84,
   "id": "0a40afa0",
   "metadata": {},
   "outputs": [
    {
     "data": {
      "text/plain": [
       "array([[1, 2, 5],\n",
       "       [3, 4, 6]])"
      ]
     },
     "execution_count": 84,
     "metadata": {},
     "output_type": "execute_result"
    }
   ],
   "source": [
    "np.concatenate((a,b.T),axis=1)"
   ]
  },
  {
   "cell_type": "markdown",
   "id": "d286372d",
   "metadata": {},
   "source": [
    " <h1>Copy</h1>\n",
    " \n",
    " <p><b>.copy()</b> nos permite copiar un array de numpy ern otra variable de tasl forma que al modificar el mnuevo array los cambios no se vean reflejados en array original</p>"
   ]
  },
  {
   "cell_type": "code",
   "execution_count": 105,
   "id": "c0f8ce0f",
   "metadata": {},
   "outputs": [
    {
     "data": {
      "text/plain": [
       "array([ 0,  1,  2,  3,  4,  5,  6,  7,  8,  9, 10, 11, 12, 13, 14, 15, 16,\n",
       "       17, 18, 19, 20, 21, 22, 23, 24, 25, 26, 27, 28, 29, 30, 31, 32, 33,\n",
       "       34, 35, 36, 37, 38, 39, 40, 41, 42, 43, 44, 45, 46, 47, 48, 49, 50,\n",
       "       51, 52, 53, 54, 55, 56, 57, 58, 59, 60, 61, 62, 63, 64, 65, 66, 67,\n",
       "       68, 69, 70, 71, 72, 73, 74, 75, 76, 77, 78, 79, 80, 81, 82, 83, 84,\n",
       "       85, 86, 87, 88, 89, 90, 91, 92, 93, 94, 95, 96, 97, 98, 99])"
      ]
     },
     "execution_count": 105,
     "metadata": {},
     "output_type": "execute_result"
    }
   ],
   "source": [
    "arr = np.arange(0,100)\n",
    "arr"
   ]
  },
  {
   "cell_type": "code",
   "execution_count": 111,
   "id": "fbb6f8c1",
   "metadata": {},
   "outputs": [],
   "source": [
    "trozo_arr = arr[:]"
   ]
  },
  {
   "cell_type": "markdown",
   "id": "b9f3c057",
   "metadata": {},
   "source": [
    "<b>para arreglar esto usamos .copy()<b>"
   ]
  },
  {
   "cell_type": "code",
   "execution_count": 121,
   "id": "52e97b18",
   "metadata": {},
   "outputs": [
    {
     "data": {
      "text/plain": [
       "array([0, 0, 0, 0, 0, 0, 0, 0, 0, 0, 0, 0, 0, 0, 0, 0, 0, 0, 0, 0, 0, 0,\n",
       "       0, 0, 0, 0, 0, 0, 0, 0, 0, 0, 0, 0, 0, 0, 0, 0, 0, 0, 0, 0, 0, 0,\n",
       "       0, 0, 0, 0, 0, 0, 0])"
      ]
     },
     "execution_count": 121,
     "metadata": {},
     "output_type": "execute_result"
    }
   ],
   "source": [
    "arr = np.arange(0,100)\n",
    "arr_copy = arr.copy()\n",
    "\n",
    "nuevo_trozo = arr[0:51]\n",
    "nuevo_trozo[:] = 0\n",
    "nuevo_trozo\n"
   ]
  },
  {
   "cell_type": "code",
   "execution_count": 122,
   "id": "efe218a3",
   "metadata": {},
   "outputs": [],
   "source": [
    "valor = 0\n",
    "for i in range(len(nuevo_trozo)):\n",
    "    valor=valor+1\n",
    "    if i % 2 == 0:\n",
    "        nuevo_trozo[i] = valor"
   ]
  },
  {
   "cell_type": "code",
   "execution_count": 123,
   "id": "ce60ac9e",
   "metadata": {},
   "outputs": [
    {
     "data": {
      "text/plain": [
       "array([ 1,  0,  3,  0,  5,  0,  7,  0,  9,  0, 11,  0, 13,  0, 15,  0, 17,\n",
       "        0, 19,  0, 21,  0, 23,  0, 25,  0, 27,  0, 29,  0, 31,  0, 33,  0,\n",
       "       35,  0, 37,  0, 39,  0, 41,  0, 43,  0, 45,  0, 47,  0, 49,  0, 51])"
      ]
     },
     "execution_count": 123,
     "metadata": {},
     "output_type": "execute_result"
    }
   ],
   "source": [
    "nuevo_trozo"
   ]
  },
  {
   "cell_type": "markdown",
   "id": "20b6c35a",
   "metadata": {},
   "source": [
    "<h1>Condiciones</h1>\n",
    "<p>Las condiciones nos permiten. <b>Hacer consultas mas especificas.</b></p>"
   ]
  },
  {
   "cell_type": "code",
   "execution_count": 39,
   "id": "259c1a90",
   "metadata": {},
   "outputs": [
    {
     "data": {
      "text/plain": [
       "array([4, 0, 4, 0, 4, 0, 4, 0, 4, 0, 4, 0, 4, 0, 4, 0, 4, 0, 4, 0, 4, 0,\n",
       "       4, 0, 4, 0, 4, 0, 4, 0, 4, 0, 4, 0, 4, 0, 4, 0, 4, 0, 4, 0, 4, 0,\n",
       "       4, 0, 4, 0, 4, 0, 4, 0, 4, 0, 4, 0, 4, 0, 4, 0, 4, 0, 4, 0, 4, 0,\n",
       "       4, 0, 4, 0, 4, 0, 4, 0, 4, 0, 4, 0, 4, 0, 4, 0, 4, 0, 4, 0, 4, 0,\n",
       "       4, 0, 4, 0, 4, 0, 4, 0, 4, 0, 4, 0])"
      ]
     },
     "execution_count": 39,
     "metadata": {},
     "output_type": "execute_result"
    }
   ],
   "source": [
    "import numpy as np \n",
    "import pandas as pd \n",
    "\n",
    "array = np.arange(0,100)\n",
    "\n",
    "array_pares = np.where(array % 2 == 0,1,0)\n",
    "\n",
    "\n",
    "array_pares[array % 2 == 0 ] = 4\n",
    "array_pares "
   ]
  },
  {
   "cell_type": "code",
   "execution_count": 33,
   "id": "3d3da22a",
   "metadata": {},
   "outputs": [
    {
     "name": "stdout",
     "output_type": "stream",
     "text": [
      " 49.0%\n"
     ]
    }
   ],
   "source": [
    "array = np.random.randint(0,100,100)\n",
    "#\n",
    "filtro = array > np.mean(array)\n",
    "fil_array = array[filtro]\n",
    "\n",
    "print(f' {(len(fil_array)/len(array))*100}%')"
   ]
  },
  {
   "cell_type": "markdown",
   "id": "48969a19",
   "metadata": {},
   "source": [
    "<h1>Operaciones</h1>\n",
    "Existen diferentes operaciones qwue se pueden usar para los arrays de numpy"
   ]
  },
  {
   "cell_type": "code",
   "execution_count": 42,
   "id": "27e02e8b",
   "metadata": {},
   "outputs": [],
   "source": [
    "arr = np.arange(0,10)\n",
    "\n",
    "copy_arr = arr.copy()"
   ]
  },
  {
   "cell_type": "code",
   "execution_count": 45,
   "id": "b513fcb6",
   "metadata": {},
   "outputs": [
    {
     "data": {
      "text/plain": [
       "array([ 0,  1,  4,  9, 16, 25, 36, 49, 64, 81])"
      ]
     },
     "execution_count": 45,
     "metadata": {},
     "output_type": "execute_result"
    }
   ],
   "source": [
    "arr * copy_arr"
   ]
  },
  {
   "cell_type": "code",
   "execution_count": 55,
   "id": "adb901fe",
   "metadata": {},
   "outputs": [
    {
     "data": {
      "text/plain": [
       "array([[ 30,  80],\n",
       "       [ 80, 255]])"
      ]
     },
     "execution_count": 55,
     "metadata": {},
     "output_type": "execute_result"
    }
   ],
   "source": [
    "matriz = arr.reshape(2,5)\n",
    "matriz2 = matriz.copy()\n",
    "\n",
    "np.matmul(matriz,matriz2.T)\n"
   ]
  },
  {
   "cell_type": "code",
   "execution_count": 56,
   "id": "fd7020de",
   "metadata": {},
   "outputs": [
    {
     "data": {
      "text/plain": [
       "array([[ 30,  80],\n",
       "       [ 80, 255]])"
      ]
     },
     "execution_count": 56,
     "metadata": {},
     "output_type": "execute_result"
    }
   ],
   "source": [
    "matriz @ matriz2.T"
   ]
  },
  {
   "cell_type": "markdown",
   "id": "a53c694b",
   "metadata": {},
   "source": [
    "<h1>Pandas y DataFrames</h1>\n",
    "Pandas es una libreria de python especializada en el manejo de datos y de estructuras de datos. el nombre vene de panel data.\n",
    "\n",
    "\n",
    "<la>\n",
    "<li>Velocidad</li>\n",
    "<li>Poco codigo</li>\n",
    "<li>Multiple formatos de archivos</li>\n",
    "<li>Alineacion inteligente</li>\n",
    "</la>\n",
    "<br>\n",
    "Pandas Series\n",
    "Es muy parecido a un array de una dimensión (o vector) de NumPy.\n",
    "<br>\n",
    "<li>Arreglo unidimensional indexado</li>\n",
    "<li>Búsqueda por índice</li>\n",
    "<li>Slicing</li>\n",
    "<li>Operaciones aritméticas</li>\n",
    "<li>Distintos tipos de datos</li>\n",
    "<br>\n",
    "Pandas DataFrame\n",
    "Muy parecido a las estructuras matriciales trabajadas con NumPy.\n",
    "<br>\n",
    "<li>Estructura principal</li>\n",
    "<li>Arreglo de dos dimensiones</li>\n",
    "<li>Búsqueda por índice (columnas o filas)</li>\n",
    "<li>Slicing</li>\n",
    "<li>Operaciones aritméticas</li>\n",
    "<li>Distintos tipos de datos</li>\n",
    "<li>Tamaño variable</li>"
   ]
  },
  {
   "cell_type": "markdown",
   "id": "7913ccc5",
   "metadata": {},
   "source": []
  },
  {
   "cell_type": "code",
   "execution_count": 5,
   "id": "98034a3c",
   "metadata": {},
   "outputs": [
    {
     "data": {
      "text/plain": [
       "10     Navas\n",
       "11    Mbappe\n",
       "12     Messi\n",
       "13    Neymar\n",
       "dtype: object"
      ]
     },
     "execution_count": 5,
     "metadata": {},
     "output_type": "execute_result"
    }
   ],
   "source": [
    "import pandas as pd\n",
    "\n",
    "psg_players = pd.Series(['Navas','Mbappe','Messi','Neymar'],\n",
    "                        index=[10,11,12,13])\n",
    "\n",
    "psg_players "
   ]
  },
  {
   "cell_type": "code",
   "execution_count": 15,
   "id": "0aedcc29",
   "metadata": {},
   "outputs": [
    {
     "data": {
      "text/plain": [
       "'messi'"
      ]
     },
     "execution_count": 15,
     "metadata": {},
     "output_type": "execute_result"
    }
   ],
   "source": [
    "dict = {1: 'messi', 2:'Neymar',3:'Mbappen',4:'Navas'}\n",
    "new_psg = pd.Series(dict)\n",
    "new_psg[1]"
   ]
  },
  {
   "cell_type": "code",
   "execution_count": 51,
   "id": "1cd83613",
   "metadata": {},
   "outputs": [
    {
     "name": "stdout",
     "output_type": "stream",
     "text": [
      "Index(['Jugador', 'Altura', 'Peso', 'goles', 'Asistencias', 'Posicion'], dtype='object')\n",
      "RangeIndex(start=0, stop=8, step=1)\n",
      "         Jugador  Altura  Peso  goles  Asistencias     Posicion\n",
      "0   Keylor Navas     185    80      0            0      Arquero\n",
      "1   Sergio ramos     184    82      1            0      Defensa\n",
      "2     Marquinhos     183    75      1            0      Defensa\n",
      "3  Marco verrati     165    60      0            1  Medio Campo\n",
      "4         Mbappe     178    73     11            0    delantero\n",
      "5          Messi     170    72      8            8    delantero\n",
      "6         Neymar     175    68     11            9    delantero\n",
      "7    Fabian Ruiz     189    70      0            0  Medio campo\n"
     ]
    }
   ],
   "source": [
    "dict = {'Jugador' : ['Keylor Navas','Sergio ramos','Marquinhos','Marco verrati','Mbappe','Messi','Neymar','Fabian Ruiz'],\n",
    " 'Altura' : [185,184,183,165,178,170,175,189],\n",
    " 'Peso' : [80,82,75,60,73,72,68,70],\n",
    " 'goles' : [0,1,1,0,11,8,11,0],\n",
    " 'Asistencias' : [0,0,0,1,0,8,9,0],\n",
    " 'Posicion': ['Arquero','Defensa','Defensa','Medio Campo','delantero','delantero','delantero','Medio campo']}\n",
    "\n",
    "df = pd.DataFrame(dict)\n",
    "print(df.columns)\n",
    "print(df.index)\n",
    "\n",
    "print(df)"
   ]
  },
  {
   "cell_type": "code",
   "execution_count": 226,
   "id": "80346f5e",
   "metadata": {},
   "outputs": [
    {
     "name": "stdout",
     "output_type": "stream",
     "text": [
      "  Jugador  Altura  Peso  goles  Asistencias   Posicion\n",
      "4  Mbappe     178    73     11            0  delantero\n",
      "5   Messi     170    72      8            8  delantero\n",
      "6  Neymar     175    68     11            9  delantero\n",
      "           Altura       Peso      goles  Asistencias\n",
      "count    3.000000   3.000000   3.000000     3.000000\n",
      "mean   174.333333  71.000000  10.000000     5.666667\n",
      "std      4.041452   2.645751   1.732051     4.932883\n",
      "min    170.000000  68.000000   8.000000     0.000000\n",
      "25%    172.500000  70.000000   9.500000     4.000000\n",
      "50%    175.000000  72.000000  11.000000     8.000000\n",
      "75%    176.500000  72.500000  11.000000     8.500000\n",
      "max    178.000000  73.000000  11.000000     9.000000\n"
     ]
    }
   ],
   "source": [
    "#datos a analizar por posicion\n",
    "\n",
    "#stats_players = df[[\"Altura\",\"Peso\"]] #Opcioon 1\n",
    "df_copia = df.copy()\n",
    "filtro_d = df_copia[\"Posicion\"] == \"delantero\"\n",
    "delanteros = df_copia[filtro_d]\n",
    "print(delanteros)\n",
    "print(delanteros.describe())\n"
   ]
  },
  {
   "cell_type": "code",
   "execution_count": 225,
   "id": "16fb06c6",
   "metadata": {},
   "outputs": [
    {
     "data": {
      "text/plain": [
       "Text(1.86, 4, '11')"
      ]
     },
     "execution_count": 225,
     "metadata": {},
     "output_type": "execute_result"
    },
    {
     "data": {
      "image/png": "[encoded data removed]",
      "text/plain": [
       "<Figure size 432x288 with 1 Axes>"
      ]
     },
     "metadata": {
      "needs_background": "light"
     },
     "output_type": "display_data"
    }
   ],
   "source": [
    "import matplotlib.pyplot as plt \n",
    "import numpy as np\n",
    "\n",
    "goles = np.array(delanteros.goles)\n",
    "\n",
    "series_players = pd.Series(goles,index=delanteros.Jugador)\n",
    "series_players\n",
    "\n",
    "plt.bar(series_players.index,goles,color=[\"grey\",\"lightblue\",\"red\"])\n",
    "plt.text(-0.17,4,goles[0],fontsize=25,multialignment='left')\n",
    "plt.text(0.923,4,goles[1],fontsize=25,multialignment='left')\n",
    "plt.text(1.86,4,goles[2],fontsize=25,multialignment='left')\n"
   ]
  },
  {
   "cell_type": "markdown",
   "id": "42195205",
   "metadata": {},
   "source": [
    "<h1>ILOC</h1>"
   ]
  },
  {
   "cell_type": "code",
   "execution_count": 185,
   "metadata": {},
   "outputs": [
    {
     "name": "stdout",
     "output_type": "stream",
     "text": [
      "         Jugador  Altura  Peso  goles  Asistencias     Posicion\n",
      "0   Keylor Navas     185    80      0            0      Arquero\n",
      "1   Sergio ramos     184    82      1            0      Defensa\n",
      "2     Marquinhos     183    75      1            0      Defensa\n",
      "3  Marco verrati     165    60      0            1  Medio Campo\n",
      "4         Mbappe     178    73     11            0    delantero\n",
      "5          Messi     170    72      8            8    delantero\n",
      "6         Neymar     175    68     11            9    delantero\n",
      "7    Fabian Ruiz     189    70      0            0  Medio campo\n",
      "iloc>>>\n",
      "   Altura  Peso\n",
      "0     185    80\n",
      "1     184    82\n",
      "2     183    75\n",
      "3     165    60\n",
      "4     178    73\n",
      "5     170    72\n",
      "6     175    68\n",
      "7     189    70\n"
     ]
    }
   ],
   "source": [
    "print(df)\n",
    "iloc_df = df.iloc[:,1:3]\n",
    "print(\"iloc>>>\")\n",
    "print(iloc_df)"
   ]
  },
  {
   "cell_type": "markdown",
   "id": "b9826f00",
   "metadata": {},
   "source": [
    "<h1>Eliminar o agregar datos con pandas</h1>"
   ]
  },
  {
   "cell_type": "code",
   "execution_count": 186,
   "metadata": {},
   "outputs": [
    {
     "data": {
      "text/html": [
       "<div>\n",
       "<style scoped>\n",
       "    .dataframe tbody tr th:only-of-type {\n",
       "        vertical-align: middle;\n",
       "    }\n",
       "\n",
       "    .dataframe tbody tr th {\n",
       "        vertical-align: top;\n",
       "    }\n",
       "\n",
       "    .dataframe thead th {\n",
       "        text-align: right;\n",
       "    }\n",
       "</style>\n",
       "<table border=\"1\" class=\"dataframe\">\n",
       "  <thead>\n",
       "    <tr style=\"text-align: right;\">\n",
       "      <th></th>\n",
       "      <th>Jugador</th>\n",
       "      <th>Altura</th>\n",
       "      <th>Peso</th>\n",
       "      <th>goles</th>\n",
       "      <th>Asistencias</th>\n",
       "      <th>Posicion</th>\n",
       "    </tr>\n",
       "  </thead>\n",
       "  <tbody>\n",
       "    <tr>\n",
       "      <th>0</th>\n",
       "      <td>Keylor Navas</td>\n",
       "      <td>185</td>\n",
       "      <td>80</td>\n",
       "      <td>0</td>\n",
       "      <td>0</td>\n",
       "      <td>Arquero</td>\n",
       "    </tr>\n",
       "    <tr>\n",
       "      <th>1</th>\n",
       "      <td>Sergio ramos</td>\n",
       "      <td>184</td>\n",
       "      <td>82</td>\n",
       "      <td>1</td>\n",
       "      <td>0</td>\n",
       "      <td>Defensa</td>\n",
       "    </tr>\n",
       "    <tr>\n",
       "      <th>2</th>\n",
       "      <td>Marquinhos</td>\n",
       "      <td>183</td>\n",
       "      <td>75</td>\n",
       "      <td>1</td>\n",
       "      <td>0</td>\n",
       "      <td>Defensa</td>\n",
       "    </tr>\n",
       "    <tr>\n",
       "      <th>3</th>\n",
       "      <td>Marco verrati</td>\n",
       "      <td>165</td>\n",
       "      <td>60</td>\n",
       "      <td>0</td>\n",
       "      <td>1</td>\n",
       "      <td>Medio Campo</td>\n",
       "    </tr>\n",
       "    <tr>\n",
       "      <th>4</th>\n",
       "      <td>Mbappe</td>\n",
       "      <td>178</td>\n",
       "      <td>73</td>\n",
       "      <td>11</td>\n",
       "      <td>0</td>\n",
       "      <td>delantero</td>\n",
       "    </tr>\n",
       "    <tr>\n",
       "      <th>5</th>\n",
       "      <td>Messi</td>\n",
       "      <td>170</td>\n",
       "      <td>72</td>\n",
       "      <td>8</td>\n",
       "      <td>8</td>\n",
       "      <td>delantero</td>\n",
       "    </tr>\n",
       "    <tr>\n",
       "      <th>6</th>\n",
       "      <td>Neymar</td>\n",
       "      <td>175</td>\n",
       "      <td>68</td>\n",
       "      <td>11</td>\n",
       "      <td>9</td>\n",
       "      <td>delantero</td>\n",
       "    </tr>\n",
       "    <tr>\n",
       "      <th>7</th>\n",
       "      <td>Fabian Ruiz</td>\n",
       "      <td>189</td>\n",
       "      <td>70</td>\n",
       "      <td>0</td>\n",
       "      <td>0</td>\n",
       "      <td>Medio campo</td>\n",
       "    </tr>\n",
       "  </tbody>\n",
       "</table>\n",
       "</div>"
      ],
      "text/plain": [
       "         Jugador  Altura  Peso  goles  Asistencias     Posicion\n",
       "0   Keylor Navas     185    80      0            0      Arquero\n",
       "1   Sergio ramos     184    82      1            0      Defensa\n",
       "2     Marquinhos     183    75      1            0      Defensa\n",
       "3  Marco verrati     165    60      0            1  Medio Campo\n",
       "4         Mbappe     178    73     11            0    delantero\n",
       "5          Messi     170    72      8            8    delantero\n",
       "6         Neymar     175    68     11            9    delantero\n",
       "7    Fabian Ruiz     189    70      0            0  Medio campo"
      ]
     },
     "execution_count": 186,
     "metadata": {},
     "output_type": "execute_result"
    }
   ],
   "source": [
    "df"
   ]
  },
  {
   "cell_type": "code",
   "execution_count": 208,
   "id": "44d18660",
   "metadata": {},
   "outputs": [
    {
     "data": {
      "text/html": [
       "<div>\n",
       "<style scoped>\n",
       "    .dataframe tbody tr th:only-of-type {\n",
       "        vertical-align: middle;\n",
       "    }\n",
       "\n",
       "    .dataframe tbody tr th {\n",
       "        vertical-align: top;\n",
       "    }\n",
       "\n",
       "    .dataframe thead th {\n",
       "        text-align: right;\n",
       "    }\n",
       "</style>\n",
       "<table border=\"1\" class=\"dataframe\">\n",
       "  <thead>\n",
       "    <tr style=\"text-align: right;\">\n",
       "      <th></th>\n",
       "      <th>Jugador</th>\n",
       "      <th>Altura</th>\n",
       "      <th>Peso</th>\n",
       "      <th>goles</th>\n",
       "      <th>Posicion</th>\n",
       "      <th>nueva columna</th>\n",
       "      <th>Delantero</th>\n",
       "    </tr>\n",
       "  </thead>\n",
       "  <tbody>\n",
       "    <tr>\n",
       "      <th>0</th>\n",
       "      <td>Keylor Navas</td>\n",
       "      <td>185</td>\n",
       "      <td>80</td>\n",
       "      <td>0</td>\n",
       "      <td>Arquero</td>\n",
       "      <td>NaN</td>\n",
       "      <td>1</td>\n",
       "    </tr>\n",
       "    <tr>\n",
       "      <th>1</th>\n",
       "      <td>Sergio ramos</td>\n",
       "      <td>184</td>\n",
       "      <td>82</td>\n",
       "      <td>1</td>\n",
       "      <td>Defensa</td>\n",
       "      <td>NaN</td>\n",
       "      <td>1</td>\n",
       "    </tr>\n",
       "  </tbody>\n",
       "</table>\n",
       "</div>"
      ],
      "text/plain": [
       "        Jugador  Altura  Peso  goles Posicion  nueva columna  Delantero\n",
       "0  Keylor Navas     185    80      0  Arquero            NaN          1\n",
       "1  Sergio ramos     184    82      1  Defensa            NaN          1"
      ]
     },
     "execution_count": 208,
     "metadata": {},
     "output_type": "execute_result"
    }
   ],
   "source": [
    "#Eliminar columnas de un data frame\n",
    "#Ejemplo eliminando asistencias\n",
    "#para eliminar directamente del df hay que agregar el atributo de implace=True\n",
    "sin_asis = df_copia.drop('Asistencias',axis=1).head(2)\n",
    "sin_asis\n"
   ]
  },
  {
   "cell_type": "code",
   "execution_count": 247,
   "metadata": {},
   "outputs": [
    {
     "data": {
      "text/html": [
       "<div>\n",
       "<style scoped>\n",
       "    .dataframe tbody tr th:only-of-type {\n",
       "        vertical-align: middle;\n",
       "    }\n",
       "\n",
       "    .dataframe tbody tr th {\n",
       "        vertical-align: top;\n",
       "    }\n",
       "\n",
       "    .dataframe thead th {\n",
       "        text-align: right;\n",
       "    }\n",
       "</style>\n",
       "<table border=\"1\" class=\"dataframe\">\n",
       "  <thead>\n",
       "    <tr style=\"text-align: right;\">\n",
       "      <th></th>\n",
       "      <th>Jugador</th>\n",
       "      <th>Altura</th>\n",
       "      <th>Peso</th>\n",
       "      <th>goles</th>\n",
       "      <th>Asistencias</th>\n",
       "      <th>Delantero</th>\n",
       "      <th>Defensa</th>\n",
       "      <th>Medio Campo</th>\n",
       "      <th>Arquero</th>\n",
       "    </tr>\n",
       "  </thead>\n",
       "  <tbody>\n",
       "    <tr>\n",
       "      <th>0</th>\n",
       "      <td>Keylor Navas</td>\n",
       "      <td>185</td>\n",
       "      <td>80</td>\n",
       "      <td>0</td>\n",
       "      <td>0</td>\n",
       "      <td>0</td>\n",
       "      <td>0</td>\n",
       "      <td>0</td>\n",
       "      <td>1</td>\n",
       "    </tr>\n",
       "    <tr>\n",
       "      <th>1</th>\n",
       "      <td>Sergio ramos</td>\n",
       "      <td>184</td>\n",
       "      <td>82</td>\n",
       "      <td>1</td>\n",
       "      <td>0</td>\n",
       "      <td>0</td>\n",
       "      <td>1</td>\n",
       "      <td>0</td>\n",
       "      <td>0</td>\n",
       "    </tr>\n",
       "    <tr>\n",
       "      <th>2</th>\n",
       "      <td>Marquinhos</td>\n",
       "      <td>183</td>\n",
       "      <td>75</td>\n",
       "      <td>1</td>\n",
       "      <td>0</td>\n",
       "      <td>0</td>\n",
       "      <td>1</td>\n",
       "      <td>0</td>\n",
       "      <td>0</td>\n",
       "    </tr>\n",
       "    <tr>\n",
       "      <th>3</th>\n",
       "      <td>Marco verrati</td>\n",
       "      <td>165</td>\n",
       "      <td>60</td>\n",
       "      <td>0</td>\n",
       "      <td>1</td>\n",
       "      <td>0</td>\n",
       "      <td>0</td>\n",
       "      <td>1</td>\n",
       "      <td>0</td>\n",
       "    </tr>\n",
       "    <tr>\n",
       "      <th>4</th>\n",
       "      <td>Mbappe</td>\n",
       "      <td>178</td>\n",
       "      <td>73</td>\n",
       "      <td>11</td>\n",
       "      <td>0</td>\n",
       "      <td>1</td>\n",
       "      <td>0</td>\n",
       "      <td>0</td>\n",
       "      <td>0</td>\n",
       "    </tr>\n",
       "    <tr>\n",
       "      <th>5</th>\n",
       "      <td>Messi</td>\n",
       "      <td>170</td>\n",
       "      <td>72</td>\n",
       "      <td>8</td>\n",
       "      <td>8</td>\n",
       "      <td>1</td>\n",
       "      <td>0</td>\n",
       "      <td>0</td>\n",
       "      <td>0</td>\n",
       "    </tr>\n",
       "    <tr>\n",
       "      <th>6</th>\n",
       "      <td>Neymar</td>\n",
       "      <td>175</td>\n",
       "      <td>68</td>\n",
       "      <td>11</td>\n",
       "      <td>9</td>\n",
       "      <td>1</td>\n",
       "      <td>0</td>\n",
       "      <td>0</td>\n",
       "      <td>0</td>\n",
       "    </tr>\n",
       "    <tr>\n",
       "      <th>7</th>\n",
       "      <td>Fabian Ruiz</td>\n",
       "      <td>189</td>\n",
       "      <td>70</td>\n",
       "      <td>0</td>\n",
       "      <td>0</td>\n",
       "      <td>0</td>\n",
       "      <td>0</td>\n",
       "      <td>0</td>\n",
       "      <td>0</td>\n",
       "    </tr>\n",
       "  </tbody>\n",
       "</table>\n",
       "</div>"
      ],
      "text/plain": [
       "         Jugador  Altura  Peso  goles  Asistencias  Delantero  Defensa  \\\n",
       "0   Keylor Navas     185    80      0            0          0        0   \n",
       "1   Sergio ramos     184    82      1            0          0        1   \n",
       "2     Marquinhos     183    75      1            0          0        1   \n",
       "3  Marco verrati     165    60      0            1          0        0   \n",
       "4         Mbappe     178    73     11            0          1        0   \n",
       "5          Messi     170    72      8            8          1        0   \n",
       "6         Neymar     175    68     11            9          1        0   \n",
       "7    Fabian Ruiz     189    70      0            0          0        0   \n",
       "\n",
       "   Medio Campo  Arquero  \n",
       "0            0        1  \n",
       "1            0        0  \n",
       "2            0        0  \n",
       "3            1        0  \n",
       "4            0        0  \n",
       "5            0        0  \n",
       "6            0        0  \n",
       "7            0        0  "
      ]
     },
     "execution_count": 247,
     "metadata": {},
     "output_type": "execute_result"
    }
   ],
   "source": [
    "#Agregar \n",
    "#add columns\n",
    "\n",
    "filtro_del = df_copia['Posicion'] == \"delantero\"\n",
    "filtro_mec = df_copia['Posicion'] == \"Medio Campo\"\n",
    "filtro_def = df_copia['Posicion'] == \"Defensa\"\n",
    "filtro_arq = df_copia['Posicion'] == \"Arquero\"\n",
    "\n",
    "df_copia['Delantero'] = np.nan\n",
    "df_copia['Defensa'] = np.nan\n",
    "df_copia['Medio Campo'] = np.nan\n",
    "df_copia['Arquero'] = np.nan\n",
    "\n",
    "df_copia.Delantero = filtro_del.astype(int)\n",
    "df_copia.Defensa = filtro_def.astype(int)\n",
    "df_copia[\"Medio Campo\"] = filtro_mec.astype(int)\n",
    "df_copia.Arquero = filtro_arq.astype(int)\n",
    "df_copia.drop('Posicion',axis=1,inplace=True)\n",
    "df_copia"
   ]
  },
  {
   "cell_type": "markdown",
   "id": "b5f1a5d9",
   "metadata": {},
   "source": [
    "<h1>Manejo de datos nulos</h1>\n",
    "Los datos nulos son un dolor de cabeza para el mundo de la ciencia de datos y se van a encontrar mucho en nuestros dataframes."
   ]
  },
  {
   "cell_type": "code",
   "execution_count": 197,
   "id": "48be87e1",
   "metadata": {},
   "outputs": [
    {
     "data": {
      "text/html": [
       "<div>\n",
       "<style scoped>\n",
       "    .dataframe tbody tr th:only-of-type {\n",
       "        vertical-align: middle;\n",
       "    }\n",
       "\n",
       "    .dataframe tbody tr th {\n",
       "        vertical-align: top;\n",
       "    }\n",
       "\n",
       "    .dataframe thead th {\n",
       "        text-align: right;\n",
       "    }\n",
       "</style>\n",
       "<table border=\"1\" class=\"dataframe\">\n",
       "  <thead>\n",
       "    <tr style=\"text-align: right;\">\n",
       "      <th></th>\n",
       "      <th>col1</th>\n",
       "      <th>col2</th>\n",
       "    </tr>\n",
       "  </thead>\n",
       "  <tbody>\n",
       "    <tr>\n",
       "      <th>0</th>\n",
       "      <td>1.0</td>\n",
       "      <td>1.0</td>\n",
       "    </tr>\n",
       "    <tr>\n",
       "      <th>1</th>\n",
       "      <td>2.0</td>\n",
       "      <td>2.0</td>\n",
       "    </tr>\n",
       "    <tr>\n",
       "      <th>2</th>\n",
       "      <td>3.0</td>\n",
       "      <td>3.0</td>\n",
       "    </tr>\n",
       "    <tr>\n",
       "      <th>3</th>\n",
       "      <td>NaN</td>\n",
       "      <td>NaN</td>\n",
       "    </tr>\n",
       "    <tr>\n",
       "      <th>4</th>\n",
       "      <td>NaN</td>\n",
       "      <td>5.0</td>\n",
       "    </tr>\n",
       "  </tbody>\n",
       "</table>\n",
       "</div>"
      ],
      "text/plain": [
       "   col1  col2\n",
       "0   1.0   1.0\n",
       "1   2.0   2.0\n",
       "2   3.0   3.0\n",
       "3   NaN   NaN\n",
       "4   NaN   5.0"
      ]
     },
     "execution_count": 197,
     "metadata": {},
     "output_type": "execute_result"
    }
   ],
   "source": [
    "import pandas as pd \n",
    "import numpy as np \n",
    "\n",
    "dict = {'col1' :[1,2,3,np.nan,np.nan],\n",
    "        'col2' :[1,2,3,np.nan,5],}\n",
    "\n",
    "\n",
    "df = pd.DataFrame(dict)\n",
    "df"
   ]
  },
  {
   "cell_type": "code",
   "execution_count": 200,
   "id": "26f077db",
   "metadata": {},
   "outputs": [
    {
     "data": {
      "text/html": [
       "<div>\n",
       "<style scoped>\n",
       "    .dataframe tbody tr th:only-of-type {\n",
       "        vertical-align: middle;\n",
       "    }\n",
       "\n",
       "    .dataframe tbody tr th {\n",
       "        vertical-align: top;\n",
       "    }\n",
       "\n",
       "    .dataframe thead th {\n",
       "        text-align: right;\n",
       "    }\n",
       "</style>\n",
       "<table border=\"1\" class=\"dataframe\">\n",
       "  <thead>\n",
       "    <tr style=\"text-align: right;\">\n",
       "      <th></th>\n",
       "      <th>col1</th>\n",
       "      <th>col2</th>\n",
       "    </tr>\n",
       "  </thead>\n",
       "  <tbody>\n",
       "    <tr>\n",
       "      <th>0</th>\n",
       "      <td>0</td>\n",
       "      <td>0</td>\n",
       "    </tr>\n",
       "    <tr>\n",
       "      <th>1</th>\n",
       "      <td>0</td>\n",
       "      <td>0</td>\n",
       "    </tr>\n",
       "    <tr>\n",
       "      <th>2</th>\n",
       "      <td>0</td>\n",
       "      <td>0</td>\n",
       "    </tr>\n",
       "    <tr>\n",
       "      <th>3</th>\n",
       "      <td>1</td>\n",
       "      <td>1</td>\n",
       "    </tr>\n",
       "    <tr>\n",
       "      <th>4</th>\n",
       "      <td>1</td>\n",
       "      <td>0</td>\n",
       "    </tr>\n",
       "  </tbody>\n",
       "</table>\n",
       "</div>"
      ],
      "text/plain": [
       "   col1  col2\n",
       "0     0     0\n",
       "1     0     0\n",
       "2     0     0\n",
       "3     1     1\n",
       "4     1     0"
      ]
     },
     "execution_count": 200,
     "metadata": {},
     "output_type": "execute_result"
    }
   ],
   "source": [
    "df.isnull() * 1"
   ]
  },
  {
   "cell_type": "code",
   "execution_count": 202,
   "id": "c3aa3def",
   "metadata": {},
   "outputs": [
    {
     "data": {
      "text/html": [
       "<div>\n",
       "<style scoped>\n",
       "    .dataframe tbody tr th:only-of-type {\n",
       "        vertical-align: middle;\n",
       "    }\n",
       "\n",
       "    .dataframe tbody tr th {\n",
       "        vertical-align: top;\n",
       "    }\n",
       "\n",
       "    .dataframe thead th {\n",
       "        text-align: right;\n",
       "    }\n",
       "</style>\n",
       "<table border=\"1\" class=\"dataframe\">\n",
       "  <thead>\n",
       "    <tr style=\"text-align: right;\">\n",
       "      <th></th>\n",
       "      <th>col1</th>\n",
       "      <th>col2</th>\n",
       "    </tr>\n",
       "  </thead>\n",
       "  <tbody>\n",
       "    <tr>\n",
       "      <th>0</th>\n",
       "      <td>1.0</td>\n",
       "      <td>1.0</td>\n",
       "    </tr>\n",
       "    <tr>\n",
       "      <th>1</th>\n",
       "      <td>2.0</td>\n",
       "      <td>2.0</td>\n",
       "    </tr>\n",
       "    <tr>\n",
       "      <th>2</th>\n",
       "      <td>3.0</td>\n",
       "      <td>3.0</td>\n",
       "    </tr>\n",
       "    <tr>\n",
       "      <th>3</th>\n",
       "      <td>Sin dato</td>\n",
       "      <td>Sin dato</td>\n",
       "    </tr>\n",
       "    <tr>\n",
       "      <th>4</th>\n",
       "      <td>Sin dato</td>\n",
       "      <td>5.0</td>\n",
       "    </tr>\n",
       "  </tbody>\n",
       "</table>\n",
       "</div>"
      ],
      "text/plain": [
       "       col1      col2\n",
       "0       1.0       1.0\n",
       "1       2.0       2.0\n",
       "2       3.0       3.0\n",
       "3  Sin dato  Sin dato\n",
       "4  Sin dato       5.0"
      ]
     },
     "execution_count": 202,
     "metadata": {},
     "output_type": "execute_result"
    }
   ],
   "source": [
    "df.fillna('Sin dato')"
   ]
  },
  {
   "cell_type": "code",
   "execution_count": 203,
   "id": "0367aee2",
   "metadata": {},
   "outputs": [
    {
     "data": {
      "text/html": [
       "<div>\n",
       "<style scoped>\n",
       "    .dataframe tbody tr th:only-of-type {\n",
       "        vertical-align: middle;\n",
       "    }\n",
       "\n",
       "    .dataframe tbody tr th {\n",
       "        vertical-align: top;\n",
       "    }\n",
       "\n",
       "    .dataframe thead th {\n",
       "        text-align: right;\n",
       "    }\n",
       "</style>\n",
       "<table border=\"1\" class=\"dataframe\">\n",
       "  <thead>\n",
       "    <tr style=\"text-align: right;\">\n",
       "      <th></th>\n",
       "      <th>col1</th>\n",
       "      <th>col2</th>\n",
       "    </tr>\n",
       "  </thead>\n",
       "  <tbody>\n",
       "    <tr>\n",
       "      <th>0</th>\n",
       "      <td>1.0</td>\n",
       "      <td>1.0</td>\n",
       "    </tr>\n",
       "    <tr>\n",
       "      <th>1</th>\n",
       "      <td>2.0</td>\n",
       "      <td>2.0</td>\n",
       "    </tr>\n",
       "    <tr>\n",
       "      <th>2</th>\n",
       "      <td>3.0</td>\n",
       "      <td>3.0</td>\n",
       "    </tr>\n",
       "    <tr>\n",
       "      <th>3</th>\n",
       "      <td>3.0</td>\n",
       "      <td>4.0</td>\n",
       "    </tr>\n",
       "    <tr>\n",
       "      <th>4</th>\n",
       "      <td>3.0</td>\n",
       "      <td>5.0</td>\n",
       "    </tr>\n",
       "  </tbody>\n",
       "</table>\n",
       "</div>"
      ],
      "text/plain": [
       "   col1  col2\n",
       "0   1.0   1.0\n",
       "1   2.0   2.0\n",
       "2   3.0   3.0\n",
       "3   3.0   4.0\n",
       "4   3.0   5.0"
      ]
     },
     "execution_count": 203,
     "metadata": {},
     "output_type": "execute_result"
    }
   ],
   "source": [
    "df.interpolate()"
   ]
  },
  {
   "cell_type": "code",
   "execution_count": 204,
   "id": "ab124d11",
   "metadata": {},
   "outputs": [
    {
     "data": {
      "text/html": [
       "<div>\n",
       "<style scoped>\n",
       "    .dataframe tbody tr th:only-of-type {\n",
       "        vertical-align: middle;\n",
       "    }\n",
       "\n",
       "    .dataframe tbody tr th {\n",
       "        vertical-align: top;\n",
       "    }\n",
       "\n",
       "    .dataframe thead th {\n",
       "        text-align: right;\n",
       "    }\n",
       "</style>\n",
       "<table border=\"1\" class=\"dataframe\">\n",
       "  <thead>\n",
       "    <tr style=\"text-align: right;\">\n",
       "      <th></th>\n",
       "      <th>col1</th>\n",
       "      <th>col2</th>\n",
       "    </tr>\n",
       "  </thead>\n",
       "  <tbody>\n",
       "    <tr>\n",
       "      <th>0</th>\n",
       "      <td>1.0</td>\n",
       "      <td>1.0</td>\n",
       "    </tr>\n",
       "    <tr>\n",
       "      <th>1</th>\n",
       "      <td>2.0</td>\n",
       "      <td>2.0</td>\n",
       "    </tr>\n",
       "    <tr>\n",
       "      <th>2</th>\n",
       "      <td>3.0</td>\n",
       "      <td>3.0</td>\n",
       "    </tr>\n",
       "  </tbody>\n",
       "</table>\n",
       "</div>"
      ],
      "text/plain": [
       "   col1  col2\n",
       "0   1.0   1.0\n",
       "1   2.0   2.0\n",
       "2   3.0   3.0"
      ]
     },
     "execution_count": 204,
     "metadata": {},
     "output_type": "execute_result"
    }
   ],
   "source": [
    "df.dropna()"
   ]
  },
  {
   "cell_type": "markdown",
   "id": "4c33e233",
   "metadata": {},
   "source": [
    "<h1>Funciones principales</h1>\n",
    "<br>\n",
    "<b>df.describe()</b> -> Estadistica descriptiva de los datos<br>\n",
    "<b>df.head()</b> -> nos muestra los primeros registros<br>\n",
    "<b>df.tail()</b> -> Nos muestra los ultimos registros<br>\n",
    "<b>df.memory_usage(deep=True)</b> -> obtener el uso en memoria de las columnas<br>\n",
    "<b>df['datos'].value_counts()</b> -> cuantos datos tengo en especifico<br>\n",
    "<b>df.drop_duplicates()</b> -> eliminar datos duplicados<br>\n",
    "<b>df.sort_values(ascending=False)</b> -> ordenar los registros de la columna(asc)<br>\n",
    "\n"
   ]
  },
  {
   "cell_type": "markdown",
   "id": "ae6a9399",
   "metadata": {},
   "source": [
    "<h1>Group by</h1>\n",
    "Permite agrupar datos en funcion de los demas."
   ]
  },
  {
   "cell_type": "code",
   "execution_count": 1,
   "id": "375fded3",
   "metadata": {},
   "outputs": [],
   "source": [
    "import pandas as pd \n",
    "import numpy as np \n",
    "import matplotlib.pyplot as plt"
   ]
  },
  {
   "cell_type": "code",
   "execution_count": 44,
   "id": "94f75fb1",
   "metadata": {},
   "outputs": [
    {
     "data": {
      "text/html": [
       "<div>\n",
       "<style scoped>\n",
       "    .dataframe tbody tr th:only-of-type {\n",
       "        vertical-align: middle;\n",
       "    }\n",
       "\n",
       "    .dataframe tbody tr th {\n",
       "        vertical-align: top;\n",
       "    }\n",
       "\n",
       "    .dataframe thead th {\n",
       "        text-align: right;\n",
       "    }\n",
       "</style>\n",
       "<table border=\"1\" class=\"dataframe\">\n",
       "  <thead>\n",
       "    <tr style=\"text-align: right;\">\n",
       "      <th></th>\n",
       "      <th>Unnamed: 0</th>\n",
       "      <th>mpg</th>\n",
       "      <th>cyl</th>\n",
       "      <th>disp</th>\n",
       "      <th>hp</th>\n",
       "      <th>drat</th>\n",
       "      <th>wt</th>\n",
       "      <th>qsec</th>\n",
       "      <th>vs</th>\n",
       "      <th>am</th>\n",
       "      <th>gear</th>\n",
       "      <th>carb</th>\n",
       "    </tr>\n",
       "  </thead>\n",
       "  <tbody>\n",
       "    <tr>\n",
       "      <th>0</th>\n",
       "      <td>Mazda RX4</td>\n",
       "      <td>21.0</td>\n",
       "      <td>6</td>\n",
       "      <td>160.0</td>\n",
       "      <td>110</td>\n",
       "      <td>3.90</td>\n",
       "      <td>2.620</td>\n",
       "      <td>16.46</td>\n",
       "      <td>0</td>\n",
       "      <td>1</td>\n",
       "      <td>4</td>\n",
       "      <td>4</td>\n",
       "    </tr>\n",
       "    <tr>\n",
       "      <th>1</th>\n",
       "      <td>Mazda RX4 Wag</td>\n",
       "      <td>21.0</td>\n",
       "      <td>6</td>\n",
       "      <td>160.0</td>\n",
       "      <td>110</td>\n",
       "      <td>3.90</td>\n",
       "      <td>2.875</td>\n",
       "      <td>17.02</td>\n",
       "      <td>0</td>\n",
       "      <td>1</td>\n",
       "      <td>4</td>\n",
       "      <td>4</td>\n",
       "    </tr>\n",
       "    <tr>\n",
       "      <th>2</th>\n",
       "      <td>Datsun 710</td>\n",
       "      <td>22.8</td>\n",
       "      <td>4</td>\n",
       "      <td>108.0</td>\n",
       "      <td>93</td>\n",
       "      <td>3.85</td>\n",
       "      <td>2.320</td>\n",
       "      <td>18.61</td>\n",
       "      <td>1</td>\n",
       "      <td>1</td>\n",
       "      <td>4</td>\n",
       "      <td>1</td>\n",
       "    </tr>\n",
       "    <tr>\n",
       "      <th>3</th>\n",
       "      <td>Hornet 4 Drive</td>\n",
       "      <td>21.4</td>\n",
       "      <td>6</td>\n",
       "      <td>258.0</td>\n",
       "      <td>110</td>\n",
       "      <td>3.08</td>\n",
       "      <td>3.215</td>\n",
       "      <td>19.44</td>\n",
       "      <td>1</td>\n",
       "      <td>0</td>\n",
       "      <td>3</td>\n",
       "      <td>1</td>\n",
       "    </tr>\n",
       "    <tr>\n",
       "      <th>4</th>\n",
       "      <td>Hornet Sportabout</td>\n",
       "      <td>18.7</td>\n",
       "      <td>8</td>\n",
       "      <td>360.0</td>\n",
       "      <td>175</td>\n",
       "      <td>3.15</td>\n",
       "      <td>3.440</td>\n",
       "      <td>17.02</td>\n",
       "      <td>0</td>\n",
       "      <td>0</td>\n",
       "      <td>3</td>\n",
       "      <td>2</td>\n",
       "    </tr>\n",
       "  </tbody>\n",
       "</table>\n",
       "</div>"
      ],
      "text/plain": [
       "          Unnamed: 0   mpg  cyl   disp   hp  drat     wt   qsec  vs  am  gear  \\\n",
       "0          Mazda RX4  21.0    6  160.0  110  3.90  2.620  16.46   0   1     4   \n",
       "1      Mazda RX4 Wag  21.0    6  160.0  110  3.90  2.875  17.02   0   1     4   \n",
       "2         Datsun 710  22.8    4  108.0   93  3.85  2.320  18.61   1   1     4   \n",
       "3     Hornet 4 Drive  21.4    6  258.0  110  3.08  3.215  19.44   1   0     3   \n",
       "4  Hornet Sportabout  18.7    8  360.0  175  3.15  3.440  17.02   0   0     3   \n",
       "\n",
       "   carb  \n",
       "0     4  \n",
       "1     4  \n",
       "2     1  \n",
       "3     1  \n",
       "4     2  "
      ]
     },
     "execution_count": 44,
     "metadata": {},
     "output_type": "execute_result"
    }
   ],
   "source": [
    "df_cars = pd.read_csv('./Downloads/cars.csv')\n",
    "\n",
    "df_cars.head(5)"
   ]
  },
  {
   "cell_type": "code",
   "execution_count": 46,
   "id": "62685802",
   "metadata": {},
   "outputs": [
    {
     "data": {
      "text/html": [
       "<div>\n",
       "<style scoped>\n",
       "    .dataframe tbody tr th:only-of-type {\n",
       "        vertical-align: middle;\n",
       "    }\n",
       "\n",
       "    .dataframe tbody tr th {\n",
       "        vertical-align: top;\n",
       "    }\n",
       "\n",
       "    .dataframe thead th {\n",
       "        text-align: right;\n",
       "    }\n",
       "</style>\n",
       "<table border=\"1\" class=\"dataframe\">\n",
       "  <thead>\n",
       "    <tr style=\"text-align: right;\">\n",
       "      <th></th>\n",
       "      <th>Unnamed: 0</th>\n",
       "      <th>mpg</th>\n",
       "      <th>cyl</th>\n",
       "      <th>disp</th>\n",
       "      <th>hp</th>\n",
       "      <th>drat</th>\n",
       "      <th>wt</th>\n",
       "      <th>qsec</th>\n",
       "      <th>vs</th>\n",
       "      <th>gear</th>\n",
       "      <th>carb</th>\n",
       "    </tr>\n",
       "    <tr>\n",
       "      <th>am</th>\n",
       "      <th></th>\n",
       "      <th></th>\n",
       "      <th></th>\n",
       "      <th></th>\n",
       "      <th></th>\n",
       "      <th></th>\n",
       "      <th></th>\n",
       "      <th></th>\n",
       "      <th></th>\n",
       "      <th></th>\n",
       "      <th></th>\n",
       "    </tr>\n",
       "  </thead>\n",
       "  <tbody>\n",
       "    <tr>\n",
       "      <th>0</th>\n",
       "      <td>19</td>\n",
       "      <td>19</td>\n",
       "      <td>19</td>\n",
       "      <td>19</td>\n",
       "      <td>19</td>\n",
       "      <td>19</td>\n",
       "      <td>19</td>\n",
       "      <td>19</td>\n",
       "      <td>19</td>\n",
       "      <td>19</td>\n",
       "      <td>19</td>\n",
       "    </tr>\n",
       "    <tr>\n",
       "      <th>1</th>\n",
       "      <td>13</td>\n",
       "      <td>13</td>\n",
       "      <td>13</td>\n",
       "      <td>13</td>\n",
       "      <td>13</td>\n",
       "      <td>13</td>\n",
       "      <td>13</td>\n",
       "      <td>13</td>\n",
       "      <td>13</td>\n",
       "      <td>13</td>\n",
       "      <td>13</td>\n",
       "    </tr>\n",
       "  </tbody>\n",
       "</table>\n",
       "</div>"
      ],
      "text/plain": [
       "    Unnamed: 0  mpg  cyl  disp  hp  drat  wt  qsec  vs  gear  carb\n",
       "am                                                                \n",
       "0           19   19   19    19  19    19  19    19  19    19    19\n",
       "1           13   13   13    13  13    13  13    13  13    13    13"
      ]
     },
     "execution_count": 46,
     "metadata": {},
     "output_type": "execute_result"
    }
   ],
   "source": [
    "df_cars.groupby('am').count()"
   ]
  },
  {
   "cell_type": "code",
   "execution_count": 47,
   "id": "78bfa331",
   "metadata": {},
   "outputs": [
    {
     "data": {
      "text/html": [
       "<div>\n",
       "<style scoped>\n",
       "    .dataframe tbody tr th:only-of-type {\n",
       "        vertical-align: middle;\n",
       "    }\n",
       "\n",
       "    .dataframe tbody tr th {\n",
       "        vertical-align: top;\n",
       "    }\n",
       "\n",
       "    .dataframe thead th {\n",
       "        text-align: right;\n",
       "    }\n",
       "</style>\n",
       "<table border=\"1\" class=\"dataframe\">\n",
       "  <thead>\n",
       "    <tr style=\"text-align: right;\">\n",
       "      <th></th>\n",
       "      <th>mpg</th>\n",
       "      <th>cyl</th>\n",
       "      <th>disp</th>\n",
       "      <th>hp</th>\n",
       "      <th>drat</th>\n",
       "      <th>wt</th>\n",
       "      <th>qsec</th>\n",
       "      <th>vs</th>\n",
       "      <th>gear</th>\n",
       "      <th>carb</th>\n",
       "    </tr>\n",
       "    <tr>\n",
       "      <th>am</th>\n",
       "      <th></th>\n",
       "      <th></th>\n",
       "      <th></th>\n",
       "      <th></th>\n",
       "      <th></th>\n",
       "      <th></th>\n",
       "      <th></th>\n",
       "      <th></th>\n",
       "      <th></th>\n",
       "      <th></th>\n",
       "    </tr>\n",
       "  </thead>\n",
       "  <tbody>\n",
       "    <tr>\n",
       "      <th>0</th>\n",
       "      <td>17.147368</td>\n",
       "      <td>6.947368</td>\n",
       "      <td>290.378947</td>\n",
       "      <td>160.263158</td>\n",
       "      <td>3.286316</td>\n",
       "      <td>3.768895</td>\n",
       "      <td>18.183158</td>\n",
       "      <td>0.368421</td>\n",
       "      <td>3.210526</td>\n",
       "      <td>2.736842</td>\n",
       "    </tr>\n",
       "    <tr>\n",
       "      <th>1</th>\n",
       "      <td>24.392308</td>\n",
       "      <td>5.076923</td>\n",
       "      <td>143.530769</td>\n",
       "      <td>126.846154</td>\n",
       "      <td>4.050000</td>\n",
       "      <td>2.411000</td>\n",
       "      <td>17.360000</td>\n",
       "      <td>0.538462</td>\n",
       "      <td>4.384615</td>\n",
       "      <td>2.923077</td>\n",
       "    </tr>\n",
       "  </tbody>\n",
       "</table>\n",
       "</div>"
      ],
      "text/plain": [
       "          mpg       cyl        disp          hp      drat        wt  \\\n",
       "am                                                                    \n",
       "0   17.147368  6.947368  290.378947  160.263158  3.286316  3.768895   \n",
       "1   24.392308  5.076923  143.530769  126.846154  4.050000  2.411000   \n",
       "\n",
       "         qsec        vs      gear      carb  \n",
       "am                                           \n",
       "0   18.183158  0.368421  3.210526  2.736842  \n",
       "1   17.360000  0.538462  4.384615  2.923077  "
      ]
     },
     "execution_count": 47,
     "metadata": {},
     "output_type": "execute_result"
    }
   ],
   "source": [
    "df_cars.groupby('am').mean()"
   ]
  },
  {
   "cell_type": "code",
   "execution_count": 50,
   "id": "1e31bc8d",
   "metadata": {},
   "outputs": [
    {
     "data": {
      "text/plain": [
       "Unnamed: 0    Valiant\n",
       "mpg              24.4\n",
       "cyl                 8\n",
       "disp            472.0\n",
       "hp                245\n",
       "drat             3.92\n",
       "wt              5.424\n",
       "qsec             22.9\n",
       "vs                  1\n",
       "gear                4\n",
       "carb                4\n",
       "Name: 0, dtype: object"
      ]
     },
     "execution_count": 50,
     "metadata": {},
     "output_type": "execute_result"
    }
   ],
   "source": [
    "df_cars.groupby('am').max().loc[0]"
   ]
  },
  {
   "cell_type": "code",
   "execution_count": 53,
   "id": "02fefe05",
   "metadata": {},
   "outputs": [
    {
     "data": {
      "text/html": [
       "<div>\n",
       "<style scoped>\n",
       "    .dataframe tbody tr th:only-of-type {\n",
       "        vertical-align: middle;\n",
       "    }\n",
       "\n",
       "    .dataframe tbody tr th {\n",
       "        vertical-align: top;\n",
       "    }\n",
       "\n",
       "    .dataframe thead tr th {\n",
       "        text-align: left;\n",
       "    }\n",
       "\n",
       "    .dataframe thead tr:last-of-type th {\n",
       "        text-align: right;\n",
       "    }\n",
       "</style>\n",
       "<table border=\"1\" class=\"dataframe\">\n",
       "  <thead>\n",
       "    <tr>\n",
       "      <th></th>\n",
       "      <th colspan=\"2\" halign=\"left\">Unnamed: 0</th>\n",
       "      <th colspan=\"2\" halign=\"left\">mpg</th>\n",
       "      <th colspan=\"2\" halign=\"left\">cyl</th>\n",
       "      <th colspan=\"2\" halign=\"left\">disp</th>\n",
       "      <th colspan=\"2\" halign=\"left\">hp</th>\n",
       "      <th>...</th>\n",
       "      <th colspan=\"2\" halign=\"left\">wt</th>\n",
       "      <th colspan=\"2\" halign=\"left\">qsec</th>\n",
       "      <th colspan=\"2\" halign=\"left\">vs</th>\n",
       "      <th colspan=\"2\" halign=\"left\">gear</th>\n",
       "      <th colspan=\"2\" halign=\"left\">carb</th>\n",
       "    </tr>\n",
       "    <tr>\n",
       "      <th></th>\n",
       "      <th>min</th>\n",
       "      <th>max</th>\n",
       "      <th>min</th>\n",
       "      <th>max</th>\n",
       "      <th>min</th>\n",
       "      <th>max</th>\n",
       "      <th>min</th>\n",
       "      <th>max</th>\n",
       "      <th>min</th>\n",
       "      <th>max</th>\n",
       "      <th>...</th>\n",
       "      <th>min</th>\n",
       "      <th>max</th>\n",
       "      <th>min</th>\n",
       "      <th>max</th>\n",
       "      <th>min</th>\n",
       "      <th>max</th>\n",
       "      <th>min</th>\n",
       "      <th>max</th>\n",
       "      <th>min</th>\n",
       "      <th>max</th>\n",
       "    </tr>\n",
       "    <tr>\n",
       "      <th>am</th>\n",
       "      <th></th>\n",
       "      <th></th>\n",
       "      <th></th>\n",
       "      <th></th>\n",
       "      <th></th>\n",
       "      <th></th>\n",
       "      <th></th>\n",
       "      <th></th>\n",
       "      <th></th>\n",
       "      <th></th>\n",
       "      <th></th>\n",
       "      <th></th>\n",
       "      <th></th>\n",
       "      <th></th>\n",
       "      <th></th>\n",
       "      <th></th>\n",
       "      <th></th>\n",
       "      <th></th>\n",
       "      <th></th>\n",
       "      <th></th>\n",
       "      <th></th>\n",
       "    </tr>\n",
       "  </thead>\n",
       "  <tbody>\n",
       "    <tr>\n",
       "      <th>0</th>\n",
       "      <td>AMC Javelin</td>\n",
       "      <td>Valiant</td>\n",
       "      <td>10.4</td>\n",
       "      <td>24.4</td>\n",
       "      <td>4</td>\n",
       "      <td>8</td>\n",
       "      <td>120.1</td>\n",
       "      <td>472.0</td>\n",
       "      <td>62</td>\n",
       "      <td>245</td>\n",
       "      <td>...</td>\n",
       "      <td>2.465</td>\n",
       "      <td>5.424</td>\n",
       "      <td>15.41</td>\n",
       "      <td>22.9</td>\n",
       "      <td>0</td>\n",
       "      <td>1</td>\n",
       "      <td>3</td>\n",
       "      <td>4</td>\n",
       "      <td>1</td>\n",
       "      <td>4</td>\n",
       "    </tr>\n",
       "    <tr>\n",
       "      <th>1</th>\n",
       "      <td>Datsun 710</td>\n",
       "      <td>Volvo 142E</td>\n",
       "      <td>15.0</td>\n",
       "      <td>33.9</td>\n",
       "      <td>4</td>\n",
       "      <td>8</td>\n",
       "      <td>71.1</td>\n",
       "      <td>351.0</td>\n",
       "      <td>52</td>\n",
       "      <td>335</td>\n",
       "      <td>...</td>\n",
       "      <td>1.513</td>\n",
       "      <td>3.570</td>\n",
       "      <td>14.50</td>\n",
       "      <td>19.9</td>\n",
       "      <td>0</td>\n",
       "      <td>1</td>\n",
       "      <td>4</td>\n",
       "      <td>5</td>\n",
       "      <td>1</td>\n",
       "      <td>8</td>\n",
       "    </tr>\n",
       "  </tbody>\n",
       "</table>\n",
       "<p>2 rows × 22 columns</p>\n",
       "</div>"
      ],
      "text/plain": [
       "     Unnamed: 0               mpg       cyl       disp         hp       ...  \\\n",
       "            min         max   min   max min max    min    max min  max  ...   \n",
       "am                                                                      ...   \n",
       "0   AMC Javelin     Valiant  10.4  24.4   4   8  120.1  472.0  62  245  ...   \n",
       "1    Datsun 710  Volvo 142E  15.0  33.9   4   8   71.1  351.0  52  335  ...   \n",
       "\n",
       "       wt          qsec        vs     gear     carb      \n",
       "      min    max    min   max min max  min max  min max  \n",
       "am                                                       \n",
       "0   2.465  5.424  15.41  22.9   0   1    3   4    1   4  \n",
       "1   1.513  3.570  14.50  19.9   0   1    4   5    1   8  \n",
       "\n",
       "[2 rows x 22 columns]"
      ]
     },
     "execution_count": 53,
     "metadata": {},
     "output_type": "execute_result"
    }
   ],
   "source": [
    "df_cars.groupby('am').agg(['min', 'max'])"
   ]
  },
  {
   "cell_type": "code",
   "execution_count": 57,
   "id": "2bd426d1",
   "metadata": {},
   "outputs": [
    {
     "data": {
      "text/html": [
       "<div>\n",
       "<style scoped>\n",
       "    .dataframe tbody tr th:only-of-type {\n",
       "        vertical-align: middle;\n",
       "    }\n",
       "\n",
       "    .dataframe tbody tr th {\n",
       "        vertical-align: top;\n",
       "    }\n",
       "\n",
       "    .dataframe thead tr th {\n",
       "        text-align: left;\n",
       "    }\n",
       "\n",
       "    .dataframe thead tr:last-of-type th {\n",
       "        text-align: right;\n",
       "    }\n",
       "</style>\n",
       "<table border=\"1\" class=\"dataframe\">\n",
       "  <thead>\n",
       "    <tr>\n",
       "      <th></th>\n",
       "      <th colspan=\"2\" halign=\"left\">mpg</th>\n",
       "      <th>cyl</th>\n",
       "    </tr>\n",
       "    <tr>\n",
       "      <th></th>\n",
       "      <th>min</th>\n",
       "      <th>max</th>\n",
       "      <th>sum</th>\n",
       "    </tr>\n",
       "    <tr>\n",
       "      <th>am</th>\n",
       "      <th></th>\n",
       "      <th></th>\n",
       "      <th></th>\n",
       "    </tr>\n",
       "  </thead>\n",
       "  <tbody>\n",
       "    <tr>\n",
       "      <th>0</th>\n",
       "      <td>10.4</td>\n",
       "      <td>24.4</td>\n",
       "      <td>132</td>\n",
       "    </tr>\n",
       "    <tr>\n",
       "      <th>1</th>\n",
       "      <td>15.0</td>\n",
       "      <td>33.9</td>\n",
       "      <td>66</td>\n",
       "    </tr>\n",
       "  </tbody>\n",
       "</table>\n",
       "</div>"
      ],
      "text/plain": [
       "     mpg        cyl\n",
       "     min   max  sum\n",
       "am                 \n",
       "0   10.4  24.4  132\n",
       "1   15.0  33.9   66"
      ]
     },
     "execution_count": 57,
     "metadata": {},
     "output_type": "execute_result"
    }
   ],
   "source": [
    "df_cars.groupby('am').agg({'mpg' : ['min','max'],'cyl' : ['sum']})"
   ]
  },
  {
   "cell_type": "markdown",
   "id": "31e20090",
   "metadata": {},
   "source": [
    "<h1>Combinando DataFrames</h1>"
   ]
  },
  {
   "cell_type": "code",
   "execution_count": 66,
   "id": "55431d04",
   "metadata": {},
   "outputs": [],
   "source": [
    "df1 = pd.DataFrame({'A' : ['A0', 'A1'],'B' : ['B0', 'B1'],'C' : ['C0', 'C1'],'D' : ['D0', 'D1']},index=[0,1])\n",
    "df2 = pd.DataFrame({'A' : ['A2', 'A3'],'B' : ['B2', 'B3'],'C' : ['C2', 'C3'],'D' : ['D2', 'D3']},index=[2,3])"
   ]
  },
  {
   "cell_type": "code",
   "execution_count": 67,
   "id": "6a126e79",
   "metadata": {},
   "outputs": [
    {
     "data": {
      "text/html": [
       "<div>\n",
       "<style scoped>\n",
       "    .dataframe tbody tr th:only-of-type {\n",
       "        vertical-align: middle;\n",
       "    }\n",
       "\n",
       "    .dataframe tbody tr th {\n",
       "        vertical-align: top;\n",
       "    }\n",
       "\n",
       "    .dataframe thead th {\n",
       "        text-align: right;\n",
       "    }\n",
       "</style>\n",
       "<table border=\"1\" class=\"dataframe\">\n",
       "  <thead>\n",
       "    <tr style=\"text-align: right;\">\n",
       "      <th></th>\n",
       "      <th>A</th>\n",
       "      <th>B</th>\n",
       "      <th>C</th>\n",
       "      <th>D</th>\n",
       "    </tr>\n",
       "  </thead>\n",
       "  <tbody>\n",
       "    <tr>\n",
       "      <th>0</th>\n",
       "      <td>A0</td>\n",
       "      <td>B0</td>\n",
       "      <td>C0</td>\n",
       "      <td>D0</td>\n",
       "    </tr>\n",
       "    <tr>\n",
       "      <th>1</th>\n",
       "      <td>A1</td>\n",
       "      <td>B1</td>\n",
       "      <td>C1</td>\n",
       "      <td>D1</td>\n",
       "    </tr>\n",
       "    <tr>\n",
       "      <th>2</th>\n",
       "      <td>A2</td>\n",
       "      <td>B2</td>\n",
       "      <td>C2</td>\n",
       "      <td>D2</td>\n",
       "    </tr>\n",
       "    <tr>\n",
       "      <th>3</th>\n",
       "      <td>A3</td>\n",
       "      <td>B3</td>\n",
       "      <td>C3</td>\n",
       "      <td>D3</td>\n",
       "    </tr>\n",
       "  </tbody>\n",
       "</table>\n",
       "</div>"
      ],
      "text/plain": [
       "    A   B   C   D\n",
       "0  A0  B0  C0  D0\n",
       "1  A1  B1  C1  D1\n",
       "2  A2  B2  C2  D2\n",
       "3  A3  B3  C3  D3"
      ]
     },
     "execution_count": 67,
     "metadata": {},
     "output_type": "execute_result"
    }
   ],
   "source": [
    "pd.concat([df1,df2])"
   ]
  },
  {
   "cell_type": "code",
   "execution_count": 68,
   "id": "5e32410e",
   "metadata": {},
   "outputs": [
    {
     "data": {
      "text/html": [
       "<div>\n",
       "<style scoped>\n",
       "    .dataframe tbody tr th:only-of-type {\n",
       "        vertical-align: middle;\n",
       "    }\n",
       "\n",
       "    .dataframe tbody tr th {\n",
       "        vertical-align: top;\n",
       "    }\n",
       "\n",
       "    .dataframe thead th {\n",
       "        text-align: right;\n",
       "    }\n",
       "</style>\n",
       "<table border=\"1\" class=\"dataframe\">\n",
       "  <thead>\n",
       "    <tr style=\"text-align: right;\">\n",
       "      <th></th>\n",
       "      <th>A</th>\n",
       "      <th>B</th>\n",
       "      <th>C</th>\n",
       "      <th>D</th>\n",
       "    </tr>\n",
       "  </thead>\n",
       "  <tbody>\n",
       "    <tr>\n",
       "      <th>0</th>\n",
       "      <td>A0</td>\n",
       "      <td>B0</td>\n",
       "      <td>C0</td>\n",
       "      <td>D0</td>\n",
       "    </tr>\n",
       "    <tr>\n",
       "      <th>1</th>\n",
       "      <td>A1</td>\n",
       "      <td>B1</td>\n",
       "      <td>C1</td>\n",
       "      <td>D1</td>\n",
       "    </tr>\n",
       "    <tr>\n",
       "      <th>2</th>\n",
       "      <td>A2</td>\n",
       "      <td>B2</td>\n",
       "      <td>C2</td>\n",
       "      <td>D2</td>\n",
       "    </tr>\n",
       "    <tr>\n",
       "      <th>3</th>\n",
       "      <td>A3</td>\n",
       "      <td>B3</td>\n",
       "      <td>C3</td>\n",
       "      <td>D3</td>\n",
       "    </tr>\n",
       "  </tbody>\n",
       "</table>\n",
       "</div>"
      ],
      "text/plain": [
       "    A   B   C   D\n",
       "0  A0  B0  C0  D0\n",
       "1  A1  B1  C1  D1\n",
       "2  A2  B2  C2  D2\n",
       "3  A3  B3  C3  D3"
      ]
     },
     "execution_count": 68,
     "metadata": {},
     "output_type": "execute_result"
    }
   ],
   "source": [
    "pd.concat([df1,df2],ignore_index=True)"
   ]
  },
  {
   "cell_type": "code",
   "execution_count": 70,
   "id": "a0a9f5cb",
   "metadata": {},
   "outputs": [
    {
     "data": {
      "text/plain": [
       "{'A': ['A0', 'A1', 'A2', 'A3'],\n",
       " 'B': ['B0', 'B1', 'B2', 'B3'],\n",
       " 'C': ['C0', 'C1', 'C2', 'C3'],\n",
       " 'D': ['D0', 'D1', 'D2', 'D3']}"
      ]
     },
     "execution_count": 70,
     "metadata": {},
     "output_type": "execute_result"
    }
   ],
   "source": [
    "dict = {'A':['A0', 'A1', 'A2','A3'],\n",
    "        'B':['B0', 'B1', 'B2','B3'],\n",
    "\t    'C':['C0', 'C1', 'C2','C3'],\n",
    "\t    'D':['D0', 'D1', 'D2','D3']}\n",
    "\n",
    "dict"
   ]
  },
  {
   "cell_type": "code",
   "execution_count": 71,
   "id": "1a34eb8f",
   "metadata": {},
   "outputs": [
    {
     "data": {
      "text/plain": [
       "(  key   A   B\n",
       " 0  k0  A0  B0\n",
       " 1  k1  A1  B1\n",
       " 2  k2  A2  B2\n",
       " 3  k3  A3  B3,\n",
       "   key   C   D\n",
       " 0  k0  C0  D0\n",
       " 1  k1  C1  D1\n",
       " 2  k2  C2  D2\n",
       " 3  k3  C3  D3)"
      ]
     },
     "execution_count": 71,
     "metadata": {},
     "output_type": "execute_result"
    }
   ],
   "source": [
    "#Merge \n",
    "izq = pd.DataFrame({'key' : ['k0', 'k1', 'k2','k3'],\n",
    " 'A' : ['A0', 'A1', 'A2','A3'],\n",
    "'B': ['B0', 'B1', 'B2','B3']})\n",
    "\n",
    "der = pd.DataFrame({'key' : ['k0', 'k1', 'k2','k3'],\n",
    " 'C' : ['C0', 'C1', 'C2','C3'],\n",
    "'D': ['D0', 'D1', 'D2','D3']})"
   ]
  },
  {
   "cell_type": "code",
   "execution_count": 73,
   "id": "b8409f2a",
   "metadata": {},
   "outputs": [
    {
     "data": {
      "text/html": [
       "<div>\n",
       "<style scoped>\n",
       "    .dataframe tbody tr th:only-of-type {\n",
       "        vertical-align: middle;\n",
       "    }\n",
       "\n",
       "    .dataframe tbody tr th {\n",
       "        vertical-align: top;\n",
       "    }\n",
       "\n",
       "    .dataframe thead th {\n",
       "        text-align: right;\n",
       "    }\n",
       "</style>\n",
       "<table border=\"1\" class=\"dataframe\">\n",
       "  <thead>\n",
       "    <tr style=\"text-align: right;\">\n",
       "      <th></th>\n",
       "      <th>key</th>\n",
       "      <th>A</th>\n",
       "      <th>B</th>\n",
       "      <th>C</th>\n",
       "      <th>D</th>\n",
       "    </tr>\n",
       "  </thead>\n",
       "  <tbody>\n",
       "    <tr>\n",
       "      <th>0</th>\n",
       "      <td>k0</td>\n",
       "      <td>A0</td>\n",
       "      <td>B0</td>\n",
       "      <td>C0</td>\n",
       "      <td>D0</td>\n",
       "    </tr>\n",
       "    <tr>\n",
       "      <th>1</th>\n",
       "      <td>k1</td>\n",
       "      <td>A1</td>\n",
       "      <td>B1</td>\n",
       "      <td>C1</td>\n",
       "      <td>D1</td>\n",
       "    </tr>\n",
       "    <tr>\n",
       "      <th>2</th>\n",
       "      <td>k2</td>\n",
       "      <td>A2</td>\n",
       "      <td>B2</td>\n",
       "      <td>C2</td>\n",
       "      <td>D2</td>\n",
       "    </tr>\n",
       "    <tr>\n",
       "      <th>3</th>\n",
       "      <td>k3</td>\n",
       "      <td>A3</td>\n",
       "      <td>B3</td>\n",
       "      <td>C3</td>\n",
       "      <td>D3</td>\n",
       "    </tr>\n",
       "  </tbody>\n",
       "</table>\n",
       "</div>"
      ],
      "text/plain": [
       "  key   A   B   C   D\n",
       "0  k0  A0  B0  C0  D0\n",
       "1  k1  A1  B1  C1  D1\n",
       "2  k2  A2  B2  C2  D2\n",
       "3  k3  A3  B3  C3  D3"
      ]
     },
     "execution_count": 73,
     "metadata": {},
     "output_type": "execute_result"
    }
   ],
   "source": [
    "izq.merge(der,on='key')"
   ]
  },
  {
   "cell_type": "code",
   "execution_count": 79,
   "id": "1e803467",
   "metadata": {},
   "outputs": [],
   "source": [
    "izq = pd.DataFrame({'key': ['k0', 'k1', 'k2','k3'],\n",
    "            'A' : ['A0', 'A1', 'A2','A3'],\n",
    "            'B': ['B0', 'B1', 'B2','B3']})\n",
    "\n",
    "der = pd.DataFrame({'key_2': ['k0', 'k1', 'k2','k3'],\n",
    "                    'C' : ['C0', 'C1', 'C2','C3'],\n",
    "                    'D': ['D0', 'D1', 'D2','D3']})"
   ]
  },
  {
   "cell_type": "code",
   "execution_count": 84,
   "id": "0c8091ea",
   "metadata": {},
   "outputs": [
    {
     "data": {
      "text/html": [
       "<div>\n",
       "<style scoped>\n",
       "    .dataframe tbody tr th:only-of-type {\n",
       "        vertical-align: middle;\n",
       "    }\n",
       "\n",
       "    .dataframe tbody tr th {\n",
       "        vertical-align: top;\n",
       "    }\n",
       "\n",
       "    .dataframe thead th {\n",
       "        text-align: right;\n",
       "    }\n",
       "</style>\n",
       "<table border=\"1\" class=\"dataframe\">\n",
       "  <thead>\n",
       "    <tr style=\"text-align: right;\">\n",
       "      <th></th>\n",
       "      <th>key</th>\n",
       "      <th>A</th>\n",
       "      <th>B</th>\n",
       "      <th>key_2</th>\n",
       "      <th>C</th>\n",
       "      <th>D</th>\n",
       "    </tr>\n",
       "  </thead>\n",
       "  <tbody>\n",
       "    <tr>\n",
       "      <th>0</th>\n",
       "      <td>k0</td>\n",
       "      <td>A0</td>\n",
       "      <td>B0</td>\n",
       "      <td>k0</td>\n",
       "      <td>C0</td>\n",
       "      <td>D0</td>\n",
       "    </tr>\n",
       "    <tr>\n",
       "      <th>1</th>\n",
       "      <td>k1</td>\n",
       "      <td>A1</td>\n",
       "      <td>B1</td>\n",
       "      <td>k1</td>\n",
       "      <td>C1</td>\n",
       "      <td>D1</td>\n",
       "    </tr>\n",
       "    <tr>\n",
       "      <th>2</th>\n",
       "      <td>k2</td>\n",
       "      <td>A2</td>\n",
       "      <td>B2</td>\n",
       "      <td>k2</td>\n",
       "      <td>C2</td>\n",
       "      <td>D2</td>\n",
       "    </tr>\n",
       "    <tr>\n",
       "      <th>3</th>\n",
       "      <td>k3</td>\n",
       "      <td>A3</td>\n",
       "      <td>B3</td>\n",
       "      <td>k3</td>\n",
       "      <td>C3</td>\n",
       "      <td>D3</td>\n",
       "    </tr>\n",
       "  </tbody>\n",
       "</table>\n",
       "</div>"
      ],
      "text/plain": [
       "  key   A   B key_2   C   D\n",
       "0  k0  A0  B0    k0  C0  D0\n",
       "1  k1  A1  B1    k1  C1  D1\n",
       "2  k2  A2  B2    k2  C2  D2\n",
       "3  k3  A3  B3    k3  C3  D3"
      ]
     },
     "execution_count": 84,
     "metadata": {},
     "output_type": "execute_result"
    }
   ],
   "source": [
    "izq.merge(der,left_on='key',right_on='key_2',how='inner')"
   ]
  },
  {
   "cell_type": "markdown",
   "id": "125a4151",
   "metadata": {},
   "source": [
    "<h1>JOIN</h1>"
   ]
  },
  {
   "cell_type": "code",
   "execution_count": 1,
   "id": "2b8420ae",
   "metadata": {},
   "outputs": [],
   "source": [
    "import pandas as pd \n",
    "import numpy as np \n",
    "\n",
    "izq = pd.DataFrame({'A': ['A0','A1','A2'],\n",
    "  'B':['B0','B1','B2']},\n",
    "  index=['k0','k1','k2'])\n",
    "\n",
    "der =pd.DataFrame({'C': ['C0','C1','C2'],\n",
    "  'D':['D0','D1','D2']},\n",
    "  index=['k0','k2','k3']) "
   ]
  },
  {
   "cell_type": "code",
   "execution_count": 4,
   "id": "b1edbdbf",
   "metadata": {},
   "outputs": [
    {
     "data": {
      "text/html": [
       "<div>\n",
       "<style scoped>\n",
       "    .dataframe tbody tr th:only-of-type {\n",
       "        vertical-align: middle;\n",
       "    }\n",
       "\n",
       "    .dataframe tbody tr th {\n",
       "        vertical-align: top;\n",
       "    }\n",
       "\n",
       "    .dataframe thead th {\n",
       "        text-align: right;\n",
       "    }\n",
       "</style>\n",
       "<table border=\"1\" class=\"dataframe\">\n",
       "  <thead>\n",
       "    <tr style=\"text-align: right;\">\n",
       "      <th></th>\n",
       "      <th>A</th>\n",
       "      <th>B</th>\n",
       "      <th>C</th>\n",
       "      <th>D</th>\n",
       "    </tr>\n",
       "  </thead>\n",
       "  <tbody>\n",
       "    <tr>\n",
       "      <th>k0</th>\n",
       "      <td>A0</td>\n",
       "      <td>B0</td>\n",
       "      <td>C0</td>\n",
       "      <td>D0</td>\n",
       "    </tr>\n",
       "    <tr>\n",
       "      <th>k1</th>\n",
       "      <td>A1</td>\n",
       "      <td>B1</td>\n",
       "      <td>NaN</td>\n",
       "      <td>NaN</td>\n",
       "    </tr>\n",
       "    <tr>\n",
       "      <th>k2</th>\n",
       "      <td>A2</td>\n",
       "      <td>B2</td>\n",
       "      <td>C1</td>\n",
       "      <td>D1</td>\n",
       "    </tr>\n",
       "  </tbody>\n",
       "</table>\n",
       "</div>"
      ],
      "text/plain": [
       "     A   B    C    D\n",
       "k0  A0  B0   C0   D0\n",
       "k1  A1  B1  NaN  NaN\n",
       "k2  A2  B2   C1   D1"
      ]
     },
     "execution_count": 4,
     "metadata": {},
     "output_type": "execute_result"
    }
   ],
   "source": [
    "izq.join(der)"
   ]
  },
  {
   "cell_type": "markdown",
   "id": "721df982",
   "metadata": {},
   "source": [
    "<h1>Apply</h1>"
   ]
  },
  {
   "cell_type": "code",
   "execution_count": 26,
   "id": "a6800df7",
   "metadata": {},
   "outputs": [
    {
     "data": {
      "text/plain": [
       "81     9\n",
       "54    72\n",
       "84    59\n",
       "59    66\n",
       "72    74\n",
       "94    25\n",
       "55    12\n",
       "81     9\n",
       "61    96\n",
       "92    53\n",
       "60    21\n",
       "94    25\n",
       "53    23\n",
       "51    71\n",
       "67     6\n",
       "63    69\n",
       "81     9\n",
       "80    96\n",
       "49     6\n",
       "98    97\n",
       "88    36\n",
       "92    53\n",
       "78    36\n",
       "78    36\n",
       "84    59\n",
       "62    56\n",
       "98    97\n",
       "71     0\n",
       "72    74\n",
       "99    40\n",
       "55    12\n",
       "60    21\n",
       "66     4\n",
       "96    83\n",
       "56    99\n",
       "69    81\n",
       "89    28\n",
       "55    12\n",
       "81     9\n",
       "88    36\n",
       "74    38\n",
       "93    31\n",
       "90     3\n",
       "96    83\n",
       "62    56\n",
       "59    66\n",
       "91    32\n",
       "53    23\n",
       "83    16\n",
       "97    15\n",
       "Name: edad, dtype: int64"
      ]
     },
     "execution_count": 26,
     "metadata": {},
     "output_type": "execute_result"
    }
   ],
   "source": [
    "df = pd.DataFrame({'edad' : np.random.randint(0,100,100)})\n",
    "\n",
    "#tomar el valor de distancia a la media y formar una nueva columna \n",
    "\n",
    "media =np.median(df.edad)\n",
    "\n",
    "df['distancia'] = df.edad.apply(lambda x: np.sqrt((x-media)**2))\n"
   ]
  },
  {
   "cell_type": "code",
   "execution_count": 23,
   "id": "9141b852",
   "metadata": {},
   "outputs": [
    {
     "data": {
      "text/plain": [
       "array([0, 1, 2, 3, 4, 5, 6, 7, 8, 9])"
      ]
     },
     "execution_count": 23,
     "metadata": {},
     "output_type": "execute_result"
    }
   ],
   "source": [
    "np.arange(0,10)"
   ]
  },
  {
   "cell_type": "code",
   "execution_count": 29,
   "id": "cf69b9a6",
   "metadata": {},
   "outputs": [
    {
     "data": {
      "text/plain": [
       "(3, 2)"
      ]
     },
     "execution_count": 29,
     "metadata": {},
     "output_type": "execute_result"
    }
   ],
   "source": [
    "array = np.array([[7,8],\n",
    "[2,1],\n",
    "[2,4]])\n",
    "\n",
    "array.shape"
   ]
  },
  {
   "cell_type": "code",
   "execution_count": 30,
   "id": "370e95b8",
   "metadata": {},
   "outputs": [
    {
     "data": {
      "text/plain": [
       "array([ 0.        ,  0.1010101 ,  0.2020202 ,  0.3030303 ,  0.4040404 ,\n",
       "        0.50505051,  0.60606061,  0.70707071,  0.80808081,  0.90909091,\n",
       "        1.01010101,  1.11111111,  1.21212121,  1.31313131,  1.41414141,\n",
       "        1.51515152,  1.61616162,  1.71717172,  1.81818182,  1.91919192,\n",
       "        2.02020202,  2.12121212,  2.22222222,  2.32323232,  2.42424242,\n",
       "        2.52525253,  2.62626263,  2.72727273,  2.82828283,  2.92929293,\n",
       "        3.03030303,  3.13131313,  3.23232323,  3.33333333,  3.43434343,\n",
       "        3.53535354,  3.63636364,  3.73737374,  3.83838384,  3.93939394,\n",
       "        4.04040404,  4.14141414,  4.24242424,  4.34343434,  4.44444444,\n",
       "        4.54545455,  4.64646465,  4.74747475,  4.84848485,  4.94949495,\n",
       "        5.05050505,  5.15151515,  5.25252525,  5.35353535,  5.45454545,\n",
       "        5.55555556,  5.65656566,  5.75757576,  5.85858586,  5.95959596,\n",
       "        6.06060606,  6.16161616,  6.26262626,  6.36363636,  6.46464646,\n",
       "        6.56565657,  6.66666667,  6.76767677,  6.86868687,  6.96969697,\n",
       "        7.07070707,  7.17171717,  7.27272727,  7.37373737,  7.47474747,\n",
       "        7.57575758,  7.67676768,  7.77777778,  7.87878788,  7.97979798,\n",
       "        8.08080808,  8.18181818,  8.28282828,  8.38383838,  8.48484848,\n",
       "        8.58585859,  8.68686869,  8.78787879,  8.88888889,  8.98989899,\n",
       "        9.09090909,  9.19191919,  9.29292929,  9.39393939,  9.49494949,\n",
       "        9.5959596 ,  9.6969697 ,  9.7979798 ,  9.8989899 , 10.        ])"
      ]
     },
     "execution_count": 30,
     "metadata": {},
     "output_type": "execute_result"
    }
   ],
   "source": [
    "np.linspace(0,10,100 )"
   ]
  },
  {
   "cell_type": "code",
   "execution_count": 35,
   "id": "6aae70aa",
   "metadata": {},
   "outputs": [
    {
     "data": {
      "text/plain": [
       "0"
      ]
     },
     "execution_count": 35,
     "metadata": {},
     "output_type": "execute_result"
    }
   ],
   "source": [
    "np.argmax([13,6,3,5,10])"
   ]
  },
  {
   "cell_type": "code",
   "execution_count": null,
   "id": "171cbd4a",
   "metadata": {},
   "outputs": [],
   "source": []
  }
 ],
 "metadata": {
  "kernelspec": {
   "display_name": "Python 3 (ipykernel)",
   "language": "python",
   "name": "python3"
  },
  "language_info": {
   "codemirror_mode": {
    "name": "ipython",
    "version": 3
   },
   "file_extension": ".py",
   "mimetype": "text/x-python",
   "name": "python",
   "nbconvert_exporter": "python",
   "pygments_lexer": "ipython3",
   "version": "3.9.12"
  },
  "vscode": {
   "interpreter": {
    "hash": "99223177361d4f44d57850fc3b00368f8a588428a9c99751011b78fc7d9a8e1f"
   }
  }
 },
 "nbformat": 4,
 "nbformat_minor": 5
}
